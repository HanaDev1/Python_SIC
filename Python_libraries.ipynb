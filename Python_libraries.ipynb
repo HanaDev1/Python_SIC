{
 "cells": [
  {
   "cell_type": "markdown",
   "metadata": {},
   "source": [
    "# Python Libraries - NumPy, Pandas, and Seaborn\n",
    "##### Hana ALalawi "
   ]
  },
  {
   "cell_type": "markdown",
   "metadata": {},
   "source": [
    "[Unit 1](#Unit-1) \n",
    "### NumPy package\n",
    "    1.1: NumPy array basics.\n",
    "    1.2: NumPy array operations.\n",
    "    1.3: Linear algebra: vectors and matrics.\n",
    "\n",
    "[Unit 2](#Unit-2) \n",
    "### Pandas Packages\n",
    "    2.1:Pandas series and DataFrame.\n",
    "    2.2:Data Summarization and manipulation.\n",
    "\n",
    "[Unit 3](#Unit-3)\n",
    "###  Visualization\n",
    "    3.1: Introduction to visualization. \n",
    "    3.2: MatplotLip and pandas visualization\n",
    "    3.3: Seaborn visualization."
   ]
  },
  {
   "cell_type": "markdown",
   "metadata": {},
   "source": [
    "### Unit 1"
   ]
  },
  {
   "cell_type": "code",
   "execution_count": null,
   "metadata": {},
   "outputs": [],
   "source": [
    "#import Numpy library \n",
    "import numpy as np\n",
    "#import pandas library\n",
    "import pandas as pd\n",
    "import os"
   ]
  },
  {
   "cell_type": "markdown",
   "metadata": {},
   "source": [
    "#### 1.1: NumPy array basics."
   ]
  },
  {
   "cell_type": "code",
   "execution_count": null,
   "metadata": {},
   "outputs": [],
   "source": [
    "#create a numpy arrays\n",
    "a_array = np.array([1,2,3])\n",
    "b_array = np.array ([4,5,6])\n",
    "#creating the copy of anotother array - same ID in memory(pointer)\n",
    "c_array = a_array\n",
    "print(id(c_array))\n",
    "print(id(a_array))\n",
    "\n",
    "#make a shollow copy of the array - differnet ID\n",
    "d_array = a_array.copy\n",
    "print(id(d_array))\n",
    "print(id(a_array))"
   ]
  },
  {
   "cell_type": "markdown",
   "metadata": {},
   "source": [
    "#### 1.1 NumPy array functions"
   ]
  },
  {
   "cell_type": "code",
   "execution_count": null,
   "metadata": {},
   "outputs": [],
   "source": [
    "#arrange\n",
    "print(np.arange(10))\n",
    "print(np.arange(10,20))\n",
    "\n",
    "#len\n",
    "print(len(a_array))\n",
    "\n",
    "#linspace \n",
    "print(\"linspace function: \\n\",np.linspace(1, 10, 5))\n",
    "arr = np.linspace(0, 10, 5, retstep=True)\n",
    "print(\"linspace function: \\n\", arr[0])\n",
    "\n",
    "#zeros - create an array of 10 zeros\n",
    "zero_array = np.zeros(10)\n",
    "print(\"Zeros function: \\n\", zero_array)\n",
    "\n",
    "#create 2D array of zeros\n",
    "zero_two_d = np.zeros((3,4))\n",
    "print(\"Zeros 2D function: \\n\", zero_two_d)\n",
    "\n",
    "#choose the datatype of the array elements\n",
    "array_z = np.zeros(5, dtype ='int64')\n",
    "print(array_z)\n",
    "\n",
    "#ones - create an array of 10 ones\n",
    "arr_ones = np.ones((2,3), dtype ='int_')\n",
    "print(\"Ones function: \\n\", arr_ones)"
   ]
  },
  {
   "cell_type": "markdown",
   "metadata": {},
   "source": [
    "##### 1.1.1 Indexing and slicing NumPy arrays"
   ]
  },
  {
   "cell_type": "code",
   "execution_count": null,
   "metadata": {},
   "outputs": [],
   "source": [
    "#create new np array\n",
    "index_array = np.array([1, 2, 3, 4, 5])\n",
    "print(index_array[2])\n",
    "print(index_array[-1])\n",
    "print(index_array[:])"
   ]
  },
  {
   "cell_type": "markdown",
   "metadata": {},
   "source": [
    "##### 1.1.2 Fancy indexing"
   ]
  },
  {
   "cell_type": "code",
   "execution_count": null,
   "metadata": {},
   "outputs": [],
   "source": [
    "arr = np.arange(100)\n",
    "arrMask = ( (arr % 2) == 0 ) \n",
    "print(arr[arrMask])"
   ]
  },
  {
   "cell_type": "markdown",
   "metadata": {},
   "source": [
    "##### 1.1.3 NumPy attributes and reshaping:"
   ]
  },
  {
   "cell_type": "code",
   "execution_count": null,
   "metadata": {},
   "outputs": [],
   "source": [
    "array_att = np.array([[1, 2, 3,], [4, 5, 6], [7, 8, 9]])"
   ]
  },
  {
   "cell_type": "code",
   "execution_count": null,
   "metadata": {},
   "outputs": [],
   "source": [
    "#shape \n",
    "print(array_att.shape)\n",
    "print(array_att.ndim)\n",
    "#reshape\n",
    "array_att = np.arange(15)\n",
    "# reshape() just produced array_att 'view'.\n",
    "# So, there is no permanent change to 'array_att'.\n",
    "print(array_att.reshape(3,5))"
   ]
  },
  {
   "cell_type": "markdown",
   "metadata": {},
   "source": [
    "##### 1.1.4 Modify numpy arrays"
   ]
  },
  {
   "cell_type": "code",
   "execution_count": null,
   "metadata": {},
   "outputs": [],
   "source": [
    "#append\n",
    "#size \n",
    "#delete"
   ]
  },
  {
   "cell_type": "markdown",
   "metadata": {},
   "source": [
    "#### 1.2: NumPy array operations."
   ]
  },
  {
   "cell_type": "code",
   "execution_count": null,
   "metadata": {},
   "outputs": [],
   "source": [
    "#Addition\n",
    "a = np.array([1, 2, 3])\n",
    "b = np.array([4, 5, 6])\n",
    "\n",
    "print(a+b)\n",
    "#Multiplication\n",
    "print(a*b)\n",
    "#subtraction \n",
    "print(a-b)\n",
    "#Division \n",
    "print(1*a/b) #operation priorities"
   ]
  },
  {
   "cell_type": "markdown",
   "metadata": {},
   "source": [
    "##### 1.2.1 Universal functions"
   ]
  },
  {
   "cell_type": "code",
   "execution_count": null,
   "metadata": {},
   "outputs": [],
   "source": [
    "x = np.array([0, 1, 2, 3, 4, 5])\n",
    "#squareroot\n",
    "print(np.sqrt(x))\n",
    "print(np.exp(x))\n",
    "print('type of np.sqrt: ',type(np.sqrt)) #Universal function\n",
    "print('type of np.exp: ',type(np.exp)) #Universal function"
   ]
  },
  {
   "cell_type": "code",
   "execution_count": null,
   "metadata": {},
   "outputs": [],
   "source": [
    "np.random.seed(123)\n",
    "a = np.random.randint(1, 11, size=1000)\n",
    "print(np.unique(a))\n",
    "#mdedian\n",
    "print(np.median(a))\n",
    "#sum \n",
    "print(np.sum(a))\n",
    "#mean \n",
    "print(np.round(np.mean(a),2))\n",
    "#virance\n",
    "print(np.round(np.var(a),2))\n",
    "#standard divation \n",
    "print(np.round(np.std(a),2))\n",
    "#max\n",
    "print(np.max(a))\n",
    "#min\n",
    "print(np.min(a))"
   ]
  },
  {
   "cell_type": "markdown",
   "metadata": {},
   "source": [
    "##### 1.2.2 Statistical Methods"
   ]
  },
  {
   "cell_type": "code",
   "execution_count": null,
   "metadata": {},
   "outputs": [],
   "source": [
    "x=np.arange(1,11)\n",
    "print(x.sum())\n",
    "print(x.mean())\n",
    "print(x.std())\n",
    "print(x.var())\n",
    "print(x.cumsum())"
   ]
  },
  {
   "cell_type": "code",
   "execution_count": null,
   "metadata": {},
   "outputs": [],
   "source": [
    "y = np.arange(1,10)\n",
    "y = y.reshape((3,-1))\n",
    "print(y)\n",
    "#mean for the row elements\n",
    "print(y.mean(axis=0))\n",
    "#mean for the column elements\n",
    "print(y.mean(axis=1))\n",
    "z = np.random.randint(10,size=1000)\n",
    "print(z.max())\n",
    "print(z.min())\n",
    "print((z > 5).sum()) #print the sum of the value greater than 5\n",
    "print(np.unique(z))\n",
    "sorted(set(z))"
   ]
  },
  {
   "cell_type": "code",
   "execution_count": null,
   "metadata": {},
   "outputs": [],
   "source": [
    "a = np.array([2,-3,4,5,7,0,1,-1])\n",
    "print(a.argmax())\n",
    "print(a.argmin())"
   ]
  },
  {
   "cell_type": "markdown",
   "metadata": {},
   "source": [
    "#### 1.3: Linear algebra: vectors and matrics."
   ]
  },
  {
   "cell_type": "markdown",
   "metadata": {},
   "source": [
    "##### 1.3.1 Vectors"
   ]
  },
  {
   "cell_type": "code",
   "execution_count": null,
   "metadata": {},
   "outputs": [],
   "source": [
    "#vector operations with NumPy\n",
    "x = np.array([1,2,3])\n",
    "y = np.array([4,5,6])\n",
    "\n",
    "#vector Addition\n",
    "print('Vector Addition: ',x + y)\n",
    "#subtraction\n",
    "print('Vector Subtraction: ',x - y)\n",
    "#wise-multiplication\n",
    "print('Vector wise-multiplication: ',x * y)\n",
    "print('Vector wise-division: ',x / y)\n",
    "#inner product with dot() function\n",
    "print('Inner product: ',x.dot(y), y.dot(x), np.dot(x,y), np.sum(x*y))\n"
   ]
  },
  {
   "cell_type": "markdown",
   "metadata": {},
   "source": [
    "##### 1.3.2: Creating matrics"
   ]
  },
  {
   "cell_type": "code",
   "execution_count": null,
   "metadata": {},
   "outputs": [],
   "source": [
    "#NumPy array as matrix\n",
    "#zeros\n",
    "print('Using zeros function\\n',np.zeros((2,3)))\n",
    "#ones\n",
    "print('Using zeros function\\n',np.ones((2,3)))"
   ]
  },
  {
   "cell_type": "code",
   "execution_count": null,
   "metadata": {},
   "outputs": [],
   "source": [
    "#initilize random seed\n",
    "np.random.seed(123)\n",
    "#a matrix with values drawn from uniform distribution\n",
    "print(np.random.random((2,2)))"
   ]
  },
  {
   "cell_type": "code",
   "execution_count": null,
   "metadata": {},
   "outputs": [],
   "source": [
    "#a matrix with values drawn from standard noraml distribution\n",
    "np.random.seed(111)\n",
    "print(np.random.randn(2,2))"
   ]
  },
  {
   "cell_type": "code",
   "execution_count": null,
   "metadata": {},
   "outputs": [],
   "source": [
    "#creat a dialog matrix\n",
    "m =  np.diag([1,2,3])\n",
    "print('Dialog matrix\\n',m)\n",
    "#extract diagonal elements\n",
    "print('diagonal elements',np.diag(m))"
   ]
  },
  {
   "cell_type": "markdown",
   "metadata": {},
   "source": [
    "##### 1.3.3 Matrix operations"
   ]
  },
  {
   "cell_type": "code",
   "execution_count": null,
   "metadata": {},
   "outputs": [],
   "source": [
    "m1 = np.array([[1, 2, 3],[4, 5, 6]])\n",
    "m2 = np.array([[6, 5, 4],[3, 2, 1]])\n",
    "#Addition\n",
    "print('Addition:\\n',m1 + m2)\n",
    "#Subtraction\n",
    "print('Subtraction:\\n',m1 - m2)\n",
    "#transpose function\n",
    "print('Transpose:\\n',np.transpose(m2))"
   ]
  },
  {
   "cell_type": "code",
   "execution_count": null,
   "metadata": {},
   "outputs": [],
   "source": [
    "#Matrix Multiplications with dot()\n",
    "print(np.dot(m1,np.transpose(m2)))\n",
    "print(\" ----------\")\n",
    "x = np.array([1, 3, 5])\n",
    "y = np.array([2, 4, 6])\n",
    "x = x.reshape((3,1))\n",
    "y = y.reshape((1,3))\n",
    "print(\"{}\".format(x))\n",
    "print(\" ----------\")\n",
    "print(\"{}\".format(y))\n",
    "\n",
    "\n",
    "print('Multiplications:\\n', y.dot(x))\n",
    "print('Multiplications:\\n', x.dot(y))\n",
    "#division "
   ]
  },
  {
   "cell_type": "markdown",
   "metadata": {},
   "source": [
    "#### The following operations are possible in NumPy but not in linear algebra:"
   ]
  },
  {
   "cell_type": "code",
   "execution_count": null,
   "metadata": {},
   "outputs": [],
   "source": [
    "print(m1 * m2)\n",
    "#division \n",
    "print(m1 / m2)\n",
    "#matrix by scalar"
   ]
  },
  {
   "cell_type": "code",
   "execution_count": null,
   "metadata": {},
   "outputs": [],
   "source": [
    "m = np.array([[1, 2],[3, 4]])"
   ]
  },
  {
   "cell_type": "code",
   "execution_count": null,
   "metadata": {},
   "outputs": [],
   "source": [
    "m*3"
   ]
  },
  {
   "cell_type": "code",
   "execution_count": null,
   "metadata": {},
   "outputs": [],
   "source": [
    "m/2"
   ]
  },
  {
   "cell_type": "markdown",
   "metadata": {},
   "source": [
    "#### 2.1: Pandas series and DataFrame.\n",
    "     2.1.1: Pandas series:\n",
    "            A: Creating series objects.\n",
    "            B: Series attributes.\n",
    "            C: Series indexing and slicing. \n",
    "            D: Sereies operations.\n",
    "            E: Sereies methods.\n",
    "     \n",
    "     2.1.2: Pandas DataFrames:\n",
    "            A: Creating DataFrames. \n",
    "            B: Reading Data into DataFrame.\n",
    "            C: Indexing and slicing in DataFrame. \n",
    "            D: File reading and writing.\n",
    "            \n",
    "      2.1.3: 1. Data manipulation:\n",
    "                A: Adding and removing columns.\n",
    "                B: Merging DataFrames.\n",
    "                C: Binding.\n",
    "             2. Data summarization:\n",
    "                A: Grouping and summrizing \n",
    "                B: Pivoting\n",
    "                C: Statistics \n",
    "                D: Slice and apply Statistical methods\n",
    "                E. Missing values\n",
    "      "
   ]
  },
  {
   "cell_type": "markdown",
   "metadata": {},
   "source": [
    "##### A: Creating series objects"
   ]
  },
  {
   "cell_type": "code",
   "execution_count": null,
   "metadata": {},
   "outputs": [],
   "source": [
    "index = ['a','b','c','d']\n",
    "values = [111,222,333,444]\n",
    "dict_ = {'a':111, 'b':222, 'c':333,'d':444}\n",
    "arr = np.array(values)"
   ]
  },
  {
   "cell_type": "code",
   "execution_count": null,
   "metadata": {},
   "outputs": [],
   "source": [
    "# Series with values and index labels.\n",
    "my_ser = pd.Series(data = values, index = index)\n",
    "print(my_ser)"
   ]
  },
  {
   "cell_type": "code",
   "execution_count": null,
   "metadata": {},
   "outputs": [],
   "source": [
    "# Series from numpy array.\n",
    "my_ser_2 = pd.Series(arr)\n",
    "print(my_ser_2)"
   ]
  },
  {
   "cell_type": "code",
   "execution_count": null,
   "metadata": {},
   "outputs": [],
   "source": [
    "# Series from numpy array with index label\n",
    "my_ser_3 = pd.Series(arr, index = index)\n",
    "print(my_ser_3)"
   ]
  },
  {
   "cell_type": "markdown",
   "metadata": {},
   "source": [
    "##### B: Series attributes"
   ]
  },
  {
   "cell_type": "code",
   "execution_count": null,
   "metadata": {},
   "outputs": [],
   "source": [
    "new_ser = pd.Series(data=[111,222,333,444], index = ['a','b','c','d'], name='newSeries')\n",
    "print(new_ser)"
   ]
  },
  {
   "cell_type": "code",
   "execution_count": null,
   "metadata": {},
   "outputs": [],
   "source": [
    "print(new_ser.name)\n",
    "print(new_ser.index)\n",
    "print(new_ser.values)\n",
    "print(new_ser.sort_values())"
   ]
  },
  {
   "cell_type": "markdown",
   "metadata": {},
   "source": [
    "##### C: Series indexing and slicing"
   ]
  },
  {
   "cell_type": "code",
   "execution_count": null,
   "metadata": {},
   "outputs": [],
   "source": [
    "print(new_ser[1])\n",
    "print(new_ser['b'])\n",
    "print(new_ser[2:4])\n",
    "print(new_ser['a':'d'])\n",
    "print(new_ser[['a','d']])"
   ]
  },
  {
   "cell_type": "markdown",
   "metadata": {},
   "source": [
    "##### D: Series operations"
   ]
  },
  {
   "cell_type": "code",
   "execution_count": null,
   "metadata": {},
   "outputs": [],
   "source": [
    "s1 = pd.Series(data=[1,2,3,4], index = ['d','b','c','a'])\n",
    "s2 = pd.Series(data=[1,2,3,4], index = ['a','b','d','e'])"
   ]
  },
  {
   "cell_type": "code",
   "execution_count": null,
   "metadata": {},
   "outputs": [],
   "source": [
    "#Please notice that in the Series to Series operations, the elements are matched by the index labels. \n",
    "#When there is no mathing index label, we get NaN.\n",
    "\n",
    "print('Addition \\n', s1 + s2)\n",
    "print('Subtraction \\n', s1 - s2)\n",
    "print('Multiplication \\n', s1 * s2)\n",
    "print('Multiplication by scalar value \\n', s1 * 2)\n",
    "print('Division \\n', s1 / s2)"
   ]
  },
  {
   "cell_type": "markdown",
   "metadata": {},
   "source": [
    "##### E: Series methods"
   ]
  },
  {
   "cell_type": "code",
   "execution_count": null,
   "metadata": {
    "scrolled": true
   },
   "outputs": [],
   "source": [
    "print('sum: \\n',s1.sum)\n",
    "print('mean: \\n',s1.mean)\n",
    "print('median:\\n ', s1.median)\n",
    "print('standard deviation:\\n ', s1.std())\n",
    "print('sort values: \\n', s1.sort_values())\n",
    "print('sort indices: \\n', s1.sort_index())"
   ]
  },
  {
   "cell_type": "code",
   "execution_count": null,
   "metadata": {},
   "outputs": [],
   "source": [
    "ser_mul = pd.Series([1,2,3,4,5,6,7,8,9],name='mul')\n",
    "ser_mul"
   ]
  },
  {
   "cell_type": "code",
   "execution_count": null,
   "metadata": {},
   "outputs": [],
   "source": [
    "ser_mul.apply(lambda x: x*2)"
   ]
  },
  {
   "cell_type": "markdown",
   "metadata": {},
   "source": [
    "#### Pandas DataFrames"
   ]
  },
  {
   "cell_type": "markdown",
   "metadata": {},
   "source": [
    "##### A. Create DataFrame"
   ]
  },
  {
   "cell_type": "code",
   "execution_count": null,
   "metadata": {},
   "outputs": [],
   "source": [
    "#create a dataframe from dictionary\n",
    "data = { 'NAME' : ['Jake', 'Jennifer', 'Paul', 'Andrew'], 'AGE': [24,21,25,19], 'GENDER':['M','F','M','M']}\n",
    "df = pd.DataFrame(data)\n",
    "df"
   ]
  },
  {
   "cell_type": "code",
   "execution_count": null,
   "metadata": {},
   "outputs": [],
   "source": [
    "#create a dataframe from NumPy Array\n",
    "df = pd.DataFrame(np.random.rand(10,5), columns=['A','B','C','D','E'])\n",
    "df.head(3)"
   ]
  },
  {
   "cell_type": "markdown",
   "metadata": {},
   "source": [
    "##### B. Reading Data into DataFrame"
   ]
  },
  {
   "cell_type": "code",
   "execution_count": null,
   "metadata": {},
   "outputs": [],
   "source": [
    "#http://localhost:8888/notebooks/CH3_PYTHON/Chapter%203.ipynb#B.-Reading-Data-into-DataFrame#reading data from CSV file \n",
    "os.chdir(r'--') #file path\n",
    "df_csv = pd.read_csv('data_studentlist.csv', header='infer')\n",
    "df_csv"
   ]
  },
  {
   "cell_type": "code",
   "execution_count": null,
   "metadata": {},
   "outputs": [],
   "source": [
    "#get the DataFrame shape\n",
    "print('Shape: ', df_csv.shape)\n",
    "#get the DataFrame size\n",
    "print('Size: ',df_csv.size)\n",
    "#get the DataFrame dimension\n",
    "print('Dimension: ', df_csv.ndim)\n",
    "#get the DataFrame column\n",
    "print('Columns: ', df_csv.columns)\n",
    "#get the DataFrame index\n",
    "print('Index: ',df_csv.index)"
   ]
  },
  {
   "cell_type": "code",
   "execution_count": null,
   "metadata": {},
   "outputs": [],
   "source": [
    "type(df_csv)"
   ]
  },
  {
   "cell_type": "code",
   "execution_count": null,
   "metadata": {},
   "outputs": [],
   "source": [
    "#summrize dataFrame\n",
    "print('Info \\n', df_csv.info) #the dataframe information\n",
    "print('Describe \\n', df_csv.describe )\n",
    "print('Head \\n', df_csv.head()) #the topmost rows\n",
    "print('Tail \\n', df_csv.tail()) #the bottom rows"
   ]
  },
  {
   "cell_type": "code",
   "execution_count": null,
   "metadata": {},
   "outputs": [],
   "source": [
    "#Replacing the 'columns' (header):\n",
    "header = df_csv.columns\n",
    "header"
   ]
  },
  {
   "cell_type": "code",
   "execution_count": null,
   "metadata": {},
   "outputs": [],
   "source": [
    "df_csv.columns = ['NAME', 'GENDER' , 'AGE', 'GRADE', 'ABSENCE', 'BLOODTYPE', 'HEIGHT', 'WEIGHT']\n",
    "df_csv.head(3) #the first three rows"
   ]
  },
  {
   "cell_type": "markdown",
   "metadata": {},
   "source": [
    "##### C. Indexing and slicing in DataFrame"
   ]
  },
  {
   "cell_type": "code",
   "execution_count": null,
   "metadata": {},
   "outputs": [],
   "source": [
    "df_csv.NAME #the column name is 'NAME'"
   ]
  },
  {
   "cell_type": "code",
   "execution_count": null,
   "metadata": {},
   "outputs": [],
   "source": [
    "df_csv['NAME']"
   ]
  },
  {
   "cell_type": "code",
   "execution_count": null,
   "metadata": {},
   "outputs": [],
   "source": [
    "#a dataframe with one column not series\n",
    "df_csv[['NAME']]"
   ]
  },
  {
   "cell_type": "code",
   "execution_count": null,
   "metadata": {},
   "outputs": [],
   "source": [
    "#get a column as series\n",
    "df_csv.loc[:,'NAME']"
   ]
  },
  {
   "cell_type": "code",
   "execution_count": null,
   "metadata": {},
   "outputs": [],
   "source": [
    "df_csv.loc[:,['NAME','GENDER']]"
   ]
  },
  {
   "cell_type": "code",
   "execution_count": null,
   "metadata": {},
   "outputs": [],
   "source": [
    "df_csv.iloc[:,[0,1]] #get column 0 and 1 which is the name and the gender"
   ]
  },
  {
   "cell_type": "code",
   "execution_count": null,
   "metadata": {},
   "outputs": [],
   "source": [
    "#conditional selection of dataframe\n",
    "df_csv.loc[:,(header =='NAME') | (header == 'GENDER')]"
   ]
  },
  {
   "cell_type": "code",
   "execution_count": null,
   "metadata": {},
   "outputs": [],
   "source": [
    "# This is a row.\n",
    "df_csv.loc[2]"
   ]
  },
  {
   "cell_type": "code",
   "execution_count": null,
   "metadata": {},
   "outputs": [],
   "source": [
    "df_csv.loc[2:4] #including 2 and 4"
   ]
  },
  {
   "cell_type": "code",
   "execution_count": null,
   "metadata": {},
   "outputs": [],
   "source": [
    "df_csv.iloc[2:4] #including 2 and excluding 4"
   ]
  },
  {
   "cell_type": "code",
   "execution_count": null,
   "metadata": {},
   "outputs": [],
   "source": [
    "#view these columns, without name and gender\n",
    "df_csv.drop(columns=['NAME','GENDER'])  "
   ]
  },
  {
   "cell_type": "code",
   "execution_count": null,
   "metadata": {},
   "outputs": [],
   "source": [
    "#removing these columns\n",
    "#df_csv.drop(columns=['NAME','GENDER'],inplace=True) \n",
    "# => To remove permanently."
   ]
  },
  {
   "cell_type": "code",
   "execution_count": null,
   "metadata": {},
   "outputs": [],
   "source": [
    "#all columns not name or gender\n",
    "df_csv.loc[:, (header!='NAME') & (header!='GENDER')]"
   ]
  },
  {
   "cell_type": "code",
   "execution_count": null,
   "metadata": {},
   "outputs": [],
   "source": [
    "#view male only\n",
    "df_csv[df_csv.GENDER == 'M']"
   ]
  },
  {
   "cell_type": "code",
   "execution_count": null,
   "metadata": {},
   "outputs": [],
   "source": [
    "# Only non-males.\n",
    "df_csv[-(df_csv.GENDER == 'M')]"
   ]
  },
  {
   "cell_type": "code",
   "execution_count": null,
   "metadata": {},
   "outputs": [],
   "source": [
    "#Opposite criteria to the previous one.\n",
    "df_csv[ -((df_csv.GENDER == 'M') & (df_csv.HEIGHT > 175))]"
   ]
  },
  {
   "cell_type": "markdown",
   "metadata": {},
   "source": [
    "#### D. File reading and writing \n",
    "#### CSV file and Excel sheet file"
   ]
  },
  {
   "cell_type": "code",
   "execution_count": null,
   "metadata": {},
   "outputs": [],
   "source": [
    "#read and write in csv file format\n",
    "# -  remove columns to the dataframe \n",
    "df2 = df_csv.drop(columns=['GRADE','ABSENCE'])"
   ]
  },
  {
   "cell_type": "code",
   "execution_count": null,
   "metadata": {},
   "outputs": [],
   "source": [
    "# - save the dataframe as a csv file\n",
    "df2.to_csv('data_mine.csv',index=False)"
   ]
  },
  {
   "cell_type": "code",
   "execution_count": null,
   "metadata": {},
   "outputs": [],
   "source": [
    "#read the csv file created before\n",
    "df3 = pd.read_csv('data_mine.csv',encoding='latin1',header='infer')\n",
    "df3.head(3) #print the dataframe columns"
   ]
  },
  {
   "cell_type": "code",
   "execution_count": null,
   "metadata": {},
   "outputs": [],
   "source": [
    "#read and write in excel file\n",
    "dfx = pd.read_excel('data_studentlist.xlsx', sheet_name='data_studentlist')\n",
    "dfx.head(5)"
   ]
  },
  {
   "cell_type": "code",
   "execution_count": null,
   "metadata": {},
   "outputs": [],
   "source": [
    "#save it to another excel file\n",
    "dfx.to_excel('data_studentlist2.xlsx',sheet_name='NewSheet', index=False)"
   ]
  },
  {
   "cell_type": "markdown",
   "metadata": {},
   "source": [
    "#### 2.2: Data Summarization and manipulation."
   ]
  },
  {
   "cell_type": "code",
   "execution_count": null,
   "metadata": {},
   "outputs": [],
   "source": [
    "#DataFrame manipulation\n",
    "os.chdir(r'--') #file path\n",
    "df_stu_csv = pd.read_csv('data_studentlist.csv', header='infer')"
   ]
  },
  {
   "cell_type": "code",
   "execution_count": null,
   "metadata": {},
   "outputs": [],
   "source": [
    "# Replace the columns (header).\n",
    "df_stu_csv.columns = ['NAME', 'GENDER' , 'AGE', 'GRADE', 'ABSENCE', 'BLOODTYPE', 'HEIGHT', 'WEIGHT']\n",
    "df_stu_csv.head(3)"
   ]
  },
  {
   "cell_type": "markdown",
   "metadata": {},
   "source": [
    "##### A. Adding and removing columns"
   ]
  },
  {
   "cell_type": "code",
   "execution_count": null,
   "metadata": {},
   "outputs": [],
   "source": [
    "#add new col bmi - to calculte the body mass index\n",
    "df_stu_csv['BMI']  = 10000*df_stu_csv['WEIGHT']/df_stu_csv['HEIGHT']**2"
   ]
  },
  {
   "cell_type": "code",
   "execution_count": null,
   "metadata": {},
   "outputs": [],
   "source": [
    "df_stu_csv.head(3)"
   ]
  },
  {
   "cell_type": "code",
   "execution_count": null,
   "metadata": {},
   "outputs": [],
   "source": [
    "#remove a column - for view use drop func , to remove the col inplace = True\n",
    "df_stu_csv.drop('BMI',axis=1)"
   ]
  },
  {
   "cell_type": "code",
   "execution_count": null,
   "metadata": {},
   "outputs": [],
   "source": [
    "df_stu_csv.head(3)"
   ]
  },
  {
   "cell_type": "code",
   "execution_count": null,
   "metadata": {},
   "outputs": [],
   "source": [
    "#to make the removal permanent\n",
    "df_stu_csv.drop('BMI',axis=1,inplace=True)\n",
    "df_stu_csv.head(3)"
   ]
  },
  {
   "cell_type": "markdown",
   "metadata": {},
   "source": [
    "##### B. DataFrame merging "
   ]
  },
  {
   "cell_type": "code",
   "execution_count": null,
   "metadata": {},
   "outputs": [],
   "source": [
    "#DataFrame A\n",
    "df_left = df_stu_csv.loc[:,['NAME','AGE','GENDER','GRADE','ABSENCE']]\n",
    "df_left_small = df_left.loc[:10,]\n",
    "df_left_small"
   ]
  },
  {
   "cell_type": "code",
   "execution_count": null,
   "metadata": {},
   "outputs": [],
   "source": [
    "#DataFrame B\n",
    "df_right = df_stu_csv.loc[:,['NAME','BLOODTYPE','WEIGHT','HEIGHT']]\n",
    "df_right_small = df_right.loc[7:,]\n",
    "df_right_small"
   ]
  },
  {
   "cell_type": "markdown",
   "metadata": {},
   "source": [
    "##### 1. Inner join"
   ]
  },
  {
   "cell_type": "code",
   "execution_count": null,
   "metadata": {},
   "outputs": [],
   "source": [
    "#'NAME' as a key to join\n",
    "pd.merge(df_left_small,df_right_small,left_on='NAME', right_on = 'NAME', how='inner')"
   ]
  },
  {
   "cell_type": "markdown",
   "metadata": {},
   "source": [
    "##### 2. Right join "
   ]
  },
  {
   "cell_type": "code",
   "execution_count": null,
   "metadata": {},
   "outputs": [],
   "source": [
    "pd.merge(df_left_small,df_right_small,left_on='NAME', right_on = 'NAME', how='right')"
   ]
  },
  {
   "cell_type": "markdown",
   "metadata": {},
   "source": [
    "##### 3. Left join"
   ]
  },
  {
   "cell_type": "code",
   "execution_count": null,
   "metadata": {},
   "outputs": [],
   "source": [
    "pd.merge(df_left_small,df_right_small,left_on='NAME', right_on = 'NAME', how='left')"
   ]
  },
  {
   "cell_type": "markdown",
   "metadata": {},
   "source": [
    "##### 4. Full puter join"
   ]
  },
  {
   "cell_type": "code",
   "execution_count": null,
   "metadata": {},
   "outputs": [],
   "source": [
    "pd.merge(df_left_small,df_right_small,left_on='NAME', right_on = 'NAME', how='outer')"
   ]
  },
  {
   "cell_type": "markdown",
   "metadata": {},
   "source": [
    "##### C. Binding "
   ]
  },
  {
   "cell_type": "code",
   "execution_count": null,
   "metadata": {},
   "outputs": [],
   "source": [
    "#Bind vertically matched by 'columns' name : concat\n",
    "pd.concat([df_left_small,df_right_small],sort=True) "
   ]
  },
  {
   "cell_type": "code",
   "execution_count": null,
   "metadata": {},
   "outputs": [],
   "source": [
    "#Bind horizontally matched by 'index':concat\n",
    "\n",
    "pd.concat([df_left_small,df_right_small],axis=1,sort=True)  "
   ]
  },
  {
   "cell_type": "markdown",
   "metadata": {},
   "source": [
    "##### D. Sorting"
   ]
  },
  {
   "cell_type": "code",
   "execution_count": null,
   "metadata": {},
   "outputs": [],
   "source": [
    "#sorting rows using one or more columns\n",
    "#sort ascending order\n",
    "df_stu_csv.sort_values(by = 'BLOODTYPE')"
   ]
  },
  {
   "cell_type": "code",
   "execution_count": null,
   "metadata": {},
   "outputs": [],
   "source": [
    "#sort by decesing order\n",
    "df_stu_csv.sort_values(by = 'BLOODTYPE', ascending = False)"
   ]
  },
  {
   "cell_type": "code",
   "execution_count": null,
   "metadata": {},
   "outputs": [],
   "source": [
    "#sort by two columns\n",
    "df_stu_csv.sort_values(by = ['BLOODTYPE','HEIGHT'])"
   ]
  },
  {
   "cell_type": "markdown",
   "metadata": {},
   "source": [
    "##### A: Grouping and summrizing"
   ]
  },
  {
   "cell_type": "code",
   "execution_count": null,
   "metadata": {},
   "outputs": [],
   "source": [
    "#it will group the data into two categories Male and Female and it will present the mean of each numeric column\n",
    "#like age, grade, height, weight\n",
    "df_stu_csv.groupby('GENDER').mean()"
   ]
  },
  {
   "cell_type": "code",
   "execution_count": null,
   "metadata": {},
   "outputs": [],
   "source": [
    "#give the HEIGHT average based on the gender type\n",
    "df_stu_csv.groupby('GENDER')['HEIGHT'].mean()"
   ]
  },
  {
   "cell_type": "code",
   "execution_count": null,
   "metadata": {},
   "outputs": [],
   "source": [
    "#give the HEIGHT and WEIGHT averages based on the gender type\n",
    "df_stu_csv.groupby('GENDER')[['HEIGHT','WEIGHT']].mean()"
   ]
  },
  {
   "cell_type": "code",
   "execution_count": null,
   "metadata": {},
   "outputs": [],
   "source": [
    "#describe the statistical summary of HEIGHT based on gender type\n",
    "#it will return count, mean, std, min, max, 25%, 75%\n",
    "df_stu_csv.groupby('GENDER')['HEIGHT'].describe()"
   ]
  },
  {
   "cell_type": "code",
   "execution_count": null,
   "metadata": {},
   "outputs": [],
   "source": [
    "#the average of HEIGHT based on the gender and blood type\n",
    "df_stu_csv.groupby(['GENDER','BLOODTYPE'])['HEIGHT'].mean()"
   ]
  },
  {
   "cell_type": "markdown",
   "metadata": {},
   "source": [
    "##### B: Pivoting"
   ]
  },
  {
   "cell_type": "code",
   "execution_count": null,
   "metadata": {},
   "outputs": [],
   "source": []
  },
  {
   "cell_type": "markdown",
   "metadata": {},
   "source": [
    "##### C. Statistics"
   ]
  },
  {
   "cell_type": "code",
   "execution_count": null,
   "metadata": {},
   "outputs": [],
   "source": [
    "#manipulate the columns and the indices and then summarize\n",
    "#open and read fromcsv file \n",
    "os.chdir(r'--') #file path\n",
    "df = pd.read_csv('data_iris.csv', header='infer')"
   ]
  },
  {
   "cell_type": "code",
   "execution_count": null,
   "metadata": {},
   "outputs": [],
   "source": [
    "df.shape #150 rows and 5 columns"
   ]
  },
  {
   "cell_type": "code",
   "execution_count": null,
   "metadata": {},
   "outputs": [],
   "source": [
    "df.head(3)"
   ]
  },
  {
   "cell_type": "code",
   "execution_count": null,
   "metadata": {},
   "outputs": [],
   "source": [
    "df.tail(3)"
   ]
  },
  {
   "cell_type": "code",
   "execution_count": null,
   "metadata": {},
   "outputs": [],
   "source": [
    "df.info()"
   ]
  },
  {
   "cell_type": "code",
   "execution_count": null,
   "metadata": {},
   "outputs": [],
   "source": [
    "# Column averages.\n",
    "df.mean(axis=0)"
   ]
  },
  {
   "cell_type": "code",
   "execution_count": null,
   "metadata": {},
   "outputs": [],
   "source": [
    "#Describtive statistics\n",
    "df.describe()"
   ]
  },
  {
   "cell_type": "code",
   "execution_count": null,
   "metadata": {},
   "outputs": [],
   "source": [
    "#count non missing values \n",
    "df.count(axis = 0)"
   ]
  },
  {
   "cell_type": "code",
   "execution_count": null,
   "metadata": {},
   "outputs": [],
   "source": [
    "# Correlation.\n",
    "df.loc[:,'Sepal.Length'].corr(df.loc[:,'Sepal.Width'])\n",
    "# the correlation coefficient is -0.11756978413300208"
   ]
  },
  {
   "cell_type": "code",
   "execution_count": null,
   "metadata": {},
   "outputs": [],
   "source": [
    "# Correlation.\n",
    "df.loc[:,'Sepal.Length'].corr(df.loc[:,'Petal.Length'])"
   ]
  },
  {
   "cell_type": "code",
   "execution_count": null,
   "metadata": {},
   "outputs": [],
   "source": [
    "# Correlation matrix taking the numeric values pair-wise\n",
    "np.round(df.corr(),3)"
   ]
  },
  {
   "cell_type": "code",
   "execution_count": null,
   "metadata": {},
   "outputs": [],
   "source": [
    "# Correlation with respect to one variable (column).\n",
    "df.corrwith(df.loc[:,'Petal.Length'])"
   ]
  },
  {
   "cell_type": "markdown",
   "metadata": {},
   "source": [
    "##### D. Slice and the apply statistical methods "
   ]
  },
  {
   "cell_type": "code",
   "execution_count": null,
   "metadata": {},
   "outputs": [],
   "source": [
    "#the mean of columns to setosa \n",
    "df[df.Species=='setosa'].mean(axis=0)"
   ]
  },
  {
   "cell_type": "code",
   "execution_count": null,
   "metadata": {},
   "outputs": [],
   "source": [
    "df[df.Species=='virginica'].mean(axis=0)"
   ]
  },
  {
   "cell_type": "code",
   "execution_count": null,
   "metadata": {},
   "outputs": [],
   "source": [
    "#frequency table\n",
    "df.Species.value_counts()"
   ]
  },
  {
   "cell_type": "markdown",
   "metadata": {},
   "source": [
    "##### E. Missing values"
   ]
  },
  {
   "cell_type": "code",
   "execution_count": null,
   "metadata": {},
   "outputs": [],
   "source": [
    "#enter some missing values to test\n",
    "df.iloc[10,0] = np.nan\n",
    "df.iloc[2,2] = np.nan\n",
    "df.iloc[17,2] = np.nan\n",
    "df.iloc[2,3] = np.nan\n",
    "df.iloc[129,2] = np.nan\n",
    "df.head(3)"
   ]
  },
  {
   "cell_type": "code",
   "execution_count": null,
   "metadata": {},
   "outputs": [],
   "source": [
    "# Count non-missing values per column.\n",
    "df.count(axis=0)"
   ]
  },
  {
   "cell_type": "code",
   "execution_count": null,
   "metadata": {},
   "outputs": [],
   "source": [
    "# Calculate the averages skipping the missing values.\n",
    "df.drop(columns='Species').mean(axis=0)  "
   ]
  },
  {
   "cell_type": "code",
   "execution_count": null,
   "metadata": {},
   "outputs": [],
   "source": [
    "# Try to calculate the averages without skipping the missing values.  => NaNs appear!\n",
    "df.drop(columns='Species').mean(axis=0, skipna=False)                  # 'Species' column is left out."
   ]
  },
  {
   "cell_type": "code",
   "execution_count": null,
   "metadata": {},
   "outputs": [],
   "source": [
    "#Detect and process the missing values:\n",
    "# Count the missing values per column.\n",
    "(df.isnull()).sum(axis=0)"
   ]
  },
  {
   "cell_type": "code",
   "execution_count": null,
   "metadata": {},
   "outputs": [],
   "source": [
    "# Proportion of missing values per column.\n",
    "(df.isnull()).mean(axis=0)"
   ]
  },
  {
   "cell_type": "code",
   "execution_count": null,
   "metadata": {},
   "outputs": [],
   "source": [
    "# Drop the rows with at least one missing value.\n",
    "df2 = df.dropna(axis=0)"
   ]
  },
  {
   "cell_type": "code",
   "execution_count": null,
   "metadata": {},
   "outputs": [],
   "source": [
    "df2.shape # four rows deleted !!"
   ]
  },
  {
   "cell_type": "code",
   "execution_count": null,
   "metadata": {},
   "outputs": [],
   "source": [
    "df2.head(3)"
   ]
  },
  {
   "cell_type": "code",
   "execution_count": null,
   "metadata": {},
   "outputs": [],
   "source": [
    "# Drop the rows with less than 4 normal values.\n",
    "df2 = df.dropna(axis=0, thresh = 4)\n",
    "df2.shape"
   ]
  },
  {
   "cell_type": "code",
   "execution_count": null,
   "metadata": {},
   "outputs": [],
   "source": [
    "# Drop the columns with at least one missing value.\n",
    "df3 = df.dropna(axis=1)\n",
    "df3.shape"
   ]
  },
  {
   "cell_type": "code",
   "execution_count": null,
   "metadata": {},
   "outputs": [],
   "source": [
    "df3.head(3)"
   ]
  },
  {
   "cell_type": "code",
   "execution_count": null,
   "metadata": {},
   "outputs": [],
   "source": [
    "# Drop the columns with less than 149 normal values.\n",
    "df3 = df.dropna(axis=1, thresh = 149) #one column deleted\n",
    "df3.shape"
   ]
  },
  {
   "cell_type": "code",
   "execution_count": null,
   "metadata": {},
   "outputs": [],
   "source": [
    "df3.head(3)"
   ]
  },
  {
   "cell_type": "code",
   "execution_count": null,
   "metadata": {},
   "outputs": [],
   "source": [
    "#Fill the missing values:\n",
    "# Fill the missing values with 0.\n",
    "df4 = df.fillna(value=0)\n",
    "df4.count() "
   ]
  },
  {
   "cell_type": "code",
   "execution_count": null,
   "metadata": {},
   "outputs": [],
   "source": [
    "#Fill the missing values using column averages.\n",
    "df['Sepal.Length'] = df['Sepal.Length'].fillna(value=df['Sepal.Length'].mean())\n",
    "df['Petal.Length'] = df['Petal.Length'].fillna(value=df['Petal.Length'].mean())\n",
    "df['Petal.Width'] = df['Petal.Width'].fillna(value=df['Petal.Width'].mean())\n",
    "df.count()                          # axis=0 by default."
   ]
  },
  {
   "cell_type": "code",
   "execution_count": null,
   "metadata": {},
   "outputs": [],
   "source": [
    "df.head(3)"
   ]
  },
  {
   "cell_type": "markdown",
   "metadata": {},
   "source": [
    "### Unit 3\n",
    "    1. Introduction to visulization. \n",
    "    2. Matplotlip and pandas vizulazation.\n",
    "    3. seaborn library."
   ]
  },
  {
   "cell_type": "markdown",
   "metadata": {},
   "source": [
    "#### 3.1: Introduction to visualization. \n"
   ]
  },
  {
   "cell_type": "code",
   "execution_count": null,
   "metadata": {},
   "outputs": [],
   "source": [
    "#import libraries\n",
    "import matplotlib.pyplot as plt\n",
    "import numpy as np\n",
    "%matplotlib inline"
   ]
  },
  {
   "cell_type": "markdown",
   "metadata": {},
   "source": [
    "##### Barplot"
   ]
  },
  {
   "cell_type": "code",
   "execution_count": null,
   "metadata": {},
   "outputs": [],
   "source": [
    "#Barplot - one categorical varible and one contiouns numeric varible - Bivariate\n",
    "arr_1 = np.array(['A','B','C','D','E'])\n",
    "arr_2 = np.array([123,567,688,124,77])\n",
    "plt.bar(arr_1,arr_2,color = 'purple')\n",
    "plt.title('BarPlot')\n",
    "plt.show()"
   ]
  },
  {
   "cell_type": "markdown",
   "metadata": {},
   "source": [
    "##### Histogram"
   ]
  },
  {
   "cell_type": "code",
   "execution_count": null,
   "metadata": {},
   "outputs": [],
   "source": [
    "#Histogram - one contiouns numeric varible - univarite\n",
    "arr_3 = np.random.randn(1000)\n",
    "plt.hist(arr_3,bins=20,color='green',density=True)\n",
    "plt.title('HISTOGRAM')\n",
    "plt.show()"
   ]
  },
  {
   "cell_type": "code",
   "execution_count": null,
   "metadata": {},
   "outputs": [],
   "source": [
    "plt.hist(arr_3,bins=100,color='blue',density=False, alpha = 0.3)\n",
    "plt.title('HISTOGRAM')\n",
    "plt.show()"
   ]
  },
  {
   "cell_type": "markdown",
   "metadata": {},
   "source": [
    "##### Boxplot"
   ]
  },
  {
   "cell_type": "code",
   "execution_count": null,
   "metadata": {},
   "outputs": [],
   "source": [
    "#Boxplot- univariate numeric countiouns varibles\n",
    "x = np.random.randn(10000)*10+3\n",
    "y = np.random.randn(10000)*10+5\n",
    "z = np.random.randn(10000)*10+2\n",
    "plt.boxplot([x,y,z],0)\n",
    "plt.title('BOXPLOT')\n",
    "plt.show()"
   ]
  },
  {
   "cell_type": "code",
   "execution_count": null,
   "metadata": {},
   "outputs": [],
   "source": [
    "#horizntal\n",
    "plt.boxplot([x,y,z],0,vert=False)\n",
    "plt.title('BOX PLOTS')\n",
    "plt.show()"
   ]
  },
  {
   "cell_type": "markdown",
   "metadata": {},
   "source": [
    "##### Scatterplot by using plot function"
   ]
  },
  {
   "cell_type": "code",
   "execution_count": null,
   "metadata": {},
   "outputs": [],
   "source": [
    "#Scatterplot - two contiouns numeric varibales - linestyle none\n",
    "x = np.linspace(0,10,100)\n",
    "y = np.sin(x)\n",
    "plt.plot(x, y, color='red',marker='o',linestyle='none',markersize=5, alpha=0.5)\n",
    "plt.title('Scatterplot')\n",
    "plt.xlabel('X')\n",
    "plt.ylabel('Sin(x)')\n",
    "plt.show()"
   ]
  },
  {
   "cell_type": "code",
   "execution_count": null,
   "metadata": {},
   "outputs": [],
   "source": [
    "#Scatterplot - two contiouns numeric varibales - linestyle none - using RGB color\n",
    "x = np.linspace(0,10,100)\n",
    "y = np.sin(x)\n",
    "plt.plot(x, y, color='#FF8C00',marker='o',linestyle='none',markersize=5, alpha=0.5)\n",
    "plt.title('Scatterplot')\n",
    "plt.xlabel('X')\n",
    "plt.ylabel('Sin(x)')\n",
    "plt.show()"
   ]
  },
  {
   "cell_type": "code",
   "execution_count": null,
   "metadata": {},
   "outputs": [],
   "source": [
    "#Scatterplot - two contiouns numeric varibales - linestyle none - using RGB color\n",
    "# markerfacecolor='yellow',markeredgecolor='purple',markeredgewidth=2\n",
    "x = np.linspace(0,10,100)\n",
    "y = np.sin(x)\n",
    "plt.plot(x, y, markerfacecolor='yellow',markeredgecolor='purple',\n",
    "         markeredgewidth=2,marker='o',markersize=15,linestyle='none', alpha=0.5)\n",
    "plt.title('Scatterplot')\n",
    "plt.xlabel('X')\n",
    "plt.ylabel('Sin(x)')\n",
    "plt.show()"
   ]
  },
  {
   "cell_type": "markdown",
   "metadata": {},
   "source": [
    "##### Scatterplot by using scatter function"
   ]
  },
  {
   "cell_type": "code",
   "execution_count": null,
   "metadata": {},
   "outputs": [],
   "source": [
    "#Scatterplot - two contiouns numeric varibales - linestyle /marker is (.)\n",
    "x = np.linspace(0,10,100)\n",
    "y = np.sin(x)\n",
    "plt.scatter(x,y,c='red',marker='.',alpha=0.5)\n",
    "plt.title('Scatterplot')\n",
    "plt.xlabel('X')\n",
    "plt.ylabel('Sin(x)')\n",
    "plt.show()"
   ]
  },
  {
   "cell_type": "code",
   "execution_count": null,
   "metadata": {},
   "outputs": [],
   "source": [
    "#Scatterplot - two contiouns numeric varibales - linestyle /marker is (v) - RGB color\n",
    "x = np.linspace(0,10,100)\n",
    "y = np.sin(x)\n",
    "plt.scatter(x,y,c='#000000',marker='v',alpha=0.5)\n",
    "plt.title('Scatterplot')\n",
    "plt.xlabel('X')\n",
    "plt.ylabel('Sin(x)')\n",
    "plt.show()"
   ]
  },
  {
   "cell_type": "code",
   "execution_count": null,
   "metadata": {},
   "outputs": [],
   "source": [
    "#Scatterplot - two contiouns numeric varibales - linestyle /marker is (square) - RGB color\n",
    "x = np.linspace(0,10,100)\n",
    "y = np.sin(x)\n",
    "plt.scatter(x,y,c='#000000',marker='s',alpha=0.5)\n",
    "plt.title('Scatterplot')\n",
    "plt.xlabel('X')\n",
    "plt.ylabel('Sin(x)')\n",
    "plt.show()"
   ]
  },
  {
   "cell_type": "markdown",
   "metadata": {},
   "source": [
    "##### Lineplot"
   ]
  },
  {
   "cell_type": "code",
   "execution_count": null,
   "metadata": {},
   "outputs": [],
   "source": [
    "#Lineplot - ilnestyle is -\n",
    "x = np.linspace(0,10,100)\n",
    "y = np.sin(x)\n",
    "plt.plot(x, y, linestyle = '-', color='orange', linewidth = 2)\n",
    "plt.title('LINEPLOT')\n",
    "plt.xlabel('X')\n",
    "plt.ylabel('Sin(x)')\n",
    "plt.show()"
   ]
  },
  {
   "cell_type": "code",
   "execution_count": null,
   "metadata": {},
   "outputs": [],
   "source": [
    "#Lineplot - ilnestyle is :\n",
    "x = np.linspace(0,10,100)\n",
    "y = np.sin(x)\n",
    "plt.plot(x, y, linestyle = ':', color='green', linewidth = 2)\n",
    "plt.title('LINEPLOT')\n",
    "plt.xlabel('X')\n",
    "plt.ylabel('Sin(x)')\n",
    "plt.show()"
   ]
  },
  {
   "cell_type": "code",
   "execution_count": null,
   "metadata": {},
   "outputs": [],
   "source": [
    "#Lineplot - ilnestyle is --\n",
    "x = np.linspace(0,10,100)\n",
    "y = np.sin(x)\n",
    "plt.plot(x, y, linestyle = '--', color='blue', linewidth = 2)\n",
    "plt.title('LINEPLOT')\n",
    "plt.xlabel('X')\n",
    "plt.ylabel('Sin(x)')\n",
    "plt.show()"
   ]
  },
  {
   "cell_type": "code",
   "execution_count": null,
   "metadata": {},
   "outputs": [],
   "source": [
    "#Lineplot - ilnestyle is -.\n",
    "x = np.linspace(0,10,100)\n",
    "y = np.sin(x)\n",
    "plt.plot(x, y, linestyle = '-.', color='black', linewidth = 2)\n",
    "plt.title('LINEPLOT')\n",
    "plt.xlabel('X')\n",
    "plt.ylabel('Sin(x)')\n",
    "plt.show()"
   ]
  },
  {
   "cell_type": "code",
   "execution_count": null,
   "metadata": {},
   "outputs": [],
   "source": [
    "#Lineplot - ilnestyle is steps\n",
    "x = np.linspace(0,10,100)\n",
    "y = np.sin(x)\n",
    "plt.plot(x, y, linestyle = 'steps', color='orange', linewidth = 2)\n",
    "plt.title('LINEPLOT')\n",
    "plt.xlabel('X')\n",
    "plt.ylabel('Sin(x)')\n",
    "plt.show()"
   ]
  },
  {
   "cell_type": "code",
   "execution_count": null,
   "metadata": {},
   "outputs": [],
   "source": [
    "#Lineplot - ilnestyle is  - select the axis limits\n",
    "x = np.linspace(0,10,100)\n",
    "y = np.sin(x)\n",
    "plt.plot(x, y, linestyle = '-', color='orange', linewidth = 2)\n",
    "plt.xlim([0,5])        # Horizontal axis limits.                             .\n",
    "plt.ylim([-2,+2])      # vertical axis limits.\n",
    "plt.title('LINEPLOT')\n",
    "plt.xlabel('X')\n",
    "plt.ylabel('Sin(x)')\n",
    "plt.show()"
   ]
  },
  {
   "cell_type": "markdown",
   "metadata": {},
   "source": [
    "#### 3.2: MatplotLip and pandas visualization\n"
   ]
  },
  {
   "cell_type": "markdown",
   "metadata": {},
   "source": [
    "##### Matplotlib vizulization with objects"
   ]
  },
  {
   "cell_type": "code",
   "execution_count": 131,
   "metadata": {},
   "outputs": [],
   "source": [
    "x = np.linspace(0,10,100)\n",
    "y = np.sin(x)\n",
    "z = np.cos(x)"
   ]
  },
  {
   "cell_type": "code",
   "execution_count": null,
   "metadata": {},
   "outputs": [],
   "source": [
    "fig = plt.figure() #create figure object\n",
    "axes = fig.add_axes([0,0,1,1]) #left, bottom, width, height\n",
    "axes.plot(x,y,color='red',linestyle='-')\n",
    "axes.set_xlabel('X')\n",
    "axes.set_ylabel('Y')\n",
    "axes.set_title('Line plot')\n",
    "plt.show()"
   ]
  },
  {
   "cell_type": "code",
   "execution_count": null,
   "metadata": {},
   "outputs": [],
   "source": [
    "fig = plt.figure() #create figure object\n",
    "axes = fig.add_axes([0,0,10,2]) #left, bottom, width, height - specify the width and height\n",
    "axes.plot(x,y,color='red',linestyle='-')\n",
    "axes.set_xlabel('X')\n",
    "axes.set_ylabel('Y')\n",
    "axes.set_title('Line plot')\n",
    "plt.show()"
   ]
  },
  {
   "cell_type": "code",
   "execution_count": 132,
   "metadata": {},
   "outputs": [
    {
     "data": {
      "image/png": "[encoded data removed]",
      "text/plain": [
       "<Figure size 432x288 with 1 Axes>"
      ]
     },
     "metadata": {
      "needs_background": "light"
     },
     "output_type": "display_data"
    }
   ],
   "source": [
    "#set the axes limit\n",
    "fig = plt.figure() #create figure object\n",
    "axes = fig.add_axes([0,0,1,1]) #left, bottom, width, height - specify the width and height\n",
    "axes.plot(x,y,color='red',linestyle='-')\n",
    "axes.set_xlim([0,5])                        # Horizontal axis limits.\n",
    "axes.set_ylim([-2,2])                      # vertical axis limits.\n",
    "axes.set_xlabel('X')\n",
    "axes.set_ylabel('Y')\n",
    "axes.set_title('Line plot')\n",
    "plt.show()\n"
   ]
  },
  {
   "cell_type": "code",
   "execution_count": null,
   "metadata": {},
   "outputs": [],
   "source": [
    "#Specify the width and height with 'figsize' argument:\n",
    "\n",
    "fig0=plt.figure(figsize=(10,1))              # Width and height specified with figsize.\n",
    "axes0 = fig0.add_axes([0,0,1,1])             # Left, bottom, width, height.\n",
    "axes0.plot(x,y,color='red',linestyle='-')\n",
    "axes0.set_xlabel('X')\n",
    "axes0.set_ylabel('Y')\n",
    "axes0.set_title('LINE PLOT')\n",
    "plt.show()"
   ]
  },
  {
   "cell_type": "code",
   "execution_count": 134,
   "metadata": {},
   "outputs": [
    {
     "data": {
      "image/png": "[encoded data removed]",
      "text/plain": [
       "<Figure size 500x200 with 1 Axes>"
      ]
     },
     "metadata": {
      "needs_background": "light"
     },
     "output_type": "display_data"
    }
   ],
   "source": [
    "#Multiple plots within the same axes:\n",
    "\n",
    "fig0=plt.figure(figsize=(5,2), dpi=100)      # Width, height and DPI setting.\n",
    "axes0 = fig0.add_axes([0,0,1,1])             # Left, bottom, width, height.\n",
    "\n",
    "axes0.plot(x,y,color='orange',linestyle='--', label='Sin')           # 'label' for the legend.\n",
    "axes0.plot(x,z,color='purple',linestyle='-.', label='Cos')        # 'label' for the legend.\n",
    "\n",
    "axes0.legend(loc=0)                                             # Legend to be locted at the top-right corner.\n",
    "axes0.set_xlabel('X')\n",
    "axes0.set_ylabel('Y')\n",
    "\n",
    "axes0.set_title('LINE PLOT')\n",
    "plt.show()"
   ]
  },
  {
   "cell_type": "markdown",
   "metadata": {},
   "source": [
    "##### Save the output in external file"
   ]
  },
  {
   "cell_type": "code",
   "execution_count": null,
   "metadata": {},
   "outputs": [],
   "source": [
    "fig0.savefig('my_fig_01.png')"
   ]
  },
  {
   "cell_type": "markdown",
   "metadata": {},
   "source": [
    "##### Multiple plots in seperate axes"
   ]
  },
  {
   "cell_type": "code",
   "execution_count": 135,
   "metadata": {},
   "outputs": [
    {
     "data": {
      "image/png": "[encoded data removed]",
      "text/plain": [
       "<Figure size 400x160 with 2 Axes>"
      ]
     },
     "metadata": {
      "needs_background": "light"
     },
     "output_type": "display_data"
    }
   ],
   "source": [
    "fig0 = plt.figure(figsize=(5,2),dpi=80)\n",
    "\n",
    "axes1 = fig0.add_axes([0,0,0.3,1])\n",
    "axes1.plot(x,y,color='red',linestyle='--',label='sin')\n",
    "axes1.set_xlabel('X')\n",
    "axes1.set_ylabel('Y')\n",
    "axes1.set_title('SINE')\n",
    "\n",
    "axes2 = fig0.add_axes([0.5,0,0.3,1])\n",
    "axes2.plot(x,z,color='red',linestyle='-',label='sin')\n",
    "axes2.set_xlabel('X')\n",
    "axes2.set_ylabel('Y')\n",
    "axes2.set_title('COSINE')\n",
    "\n",
    "plt.show()"
   ]
  },
  {
   "cell_type": "code",
   "execution_count": null,
   "metadata": {},
   "outputs": [],
   "source": [
    "fig0 = plt.figure(figsize=(8,5),dpi=80)\n",
    "\n",
    "axes1 = fig0.add_axes([0,0.5,0.2,0.5])           # Left, bottom, width, height.\n",
    "axes1.plot(x,y,color='red',marker='s',label='sin')\n",
    "axes1.set_xlabel('X')\n",
    "axes1.set_ylabel('Y')\n",
    "axes1.set_title('SINE')\n",
    "\n",
    "axes2 = fig0.add_axes([0.5,0,0.2,0.5])           # Left, bottom, width, height.\n",
    "axes2.plot(x,z,color='red',marker='v',label='sin',markersize=10\n",
    "           ,markerfacecolor='purple',markeredgecolor='red',alpha=0.5)\n",
    "axes2.set_xlabel('X')\n",
    "axes2.set_ylabel('Y')\n",
    "axes2.set_title('COSINE')\n",
    "\n",
    "plt.show()\n",
    "\n",
    "\n"
   ]
  },
  {
   "cell_type": "markdown",
   "metadata": {},
   "source": [
    "##### Multiple plots in an array of axes"
   ]
  },
  {
   "cell_type": "code",
   "execution_count": null,
   "metadata": {},
   "outputs": [],
   "source": [
    "fig, axes = plt.subplots(nrows=2, ncols=3, figsize=(6,6)) #give the number of rows and cols\n",
    "\n",
    "# (0,0)\n",
    "c = np.random.randn(10000)\n",
    "axes[0,0].hist(c,bins=100,color='green',density=True,alpha=0.3)\n",
    "axes[0,0].set_title('HISTOGRAM')\n",
    "\n",
    "# (0,1)\n",
    "#Barplot - one categorical varible and one contiouns numeric varible - Bivariate\n",
    "arr_1 = np.array(['A','B','C','D','E'])\n",
    "arr_2 = np.array([123,567,688,124,77])\n",
    "axes[0,1].bar(arr_1,arr_2,color = 'purple')\n",
    "axes[0,1].set_title('BarPlot')\n",
    "\n",
    "\n",
    "# (1,0)\n",
    "#Boxplot- univariate numeric countiouns varibles\n",
    "x = np.random.randn(10000)*10+3\n",
    "y = np.random.randn(10000)*10+5\n",
    "z = np.random.randn(10000)*10+2\n",
    "axes[1,0].boxplot([x,y,z],0)\n",
    "axes[1,0].set_title('BOXPLOT')\n",
    "\n",
    "\n",
    "# (1,1)\n",
    "x = np.linspace(0,10,100)\n",
    "y = np.sin(x)\n",
    "axes[1,1].plot(x,y,color='red',linestyle='-')\n",
    "axes[1,1].set_xlabel('X')\n",
    "axes[1,1].set_ylabel('Y')\n",
    "axes[1,1].set_title('Line plot')\n",
    "\n",
    "# (1,2)\n",
    "axes[1,2].plot(x,y,color='green',linestyle=':')  \n",
    "axes[1,2].set_xlabel('X')\n",
    "axes[1,2].set_ylabel('Y')\n",
    "axes[1,2].set_title('SINE')\n",
    "\n",
    "# (0,2)\n",
    "axes[0,2].plot(x,y,color='green',linestyle=':')  \n",
    "axes[0,2].set_xlabel('X')\n",
    "axes[0,2].set_ylabel('Y')\n",
    "axes[0,2].set_title('SINE')\n",
    "\n"
   ]
  },
  {
   "cell_type": "markdown",
   "metadata": {},
   "source": [
    "##### Pandas visualization"
   ]
  },
  {
   "cell_type": "code",
   "execution_count": null,
   "metadata": {},
   "outputs": [],
   "source": [
    "import pandas as pd \n",
    "import os"
   ]
  },
  {
   "cell_type": "code",
   "execution_count": null,
   "metadata": {},
   "outputs": [],
   "source": [
    "#read data from csv file\n",
    "# Go to the directory where the data file is located. \n",
    "os.chdir(r'--') \n",
    "df = pd.read_csv('data_iris.csv', header='infer')"
   ]
  },
  {
   "cell_type": "code",
   "execution_count": null,
   "metadata": {},
   "outputs": [],
   "source": [
    "df.shape"
   ]
  },
  {
   "cell_type": "code",
   "execution_count": null,
   "metadata": {},
   "outputs": [],
   "source": [
    "df.head(3)"
   ]
  },
  {
   "cell_type": "markdown",
   "metadata": {},
   "source": [
    "##### Histogram"
   ]
  },
  {
   "cell_type": "code",
   "execution_count": null,
   "metadata": {},
   "outputs": [],
   "source": [
    "df.loc[:,'Petal.Length'].plot.hist(color='blue',alpha=0.5)\n",
    "plt.show()"
   ]
  },
  {
   "cell_type": "code",
   "execution_count": null,
   "metadata": {},
   "outputs": [],
   "source": [
    "df.loc[:,'Petal.Length'].plot.hist(bins = 50, color='blue',alpha=0.5)\n",
    "plt.show()"
   ]
  },
  {
   "cell_type": "code",
   "execution_count": null,
   "metadata": {},
   "outputs": [],
   "source": [
    "df.loc[:,['Sepal.Length','Petal.Length']].plot.hist(bins = 50, color=['blue','red'],alpha=0.6)\n",
    "plt.show()"
   ]
  },
  {
   "cell_type": "markdown",
   "metadata": {},
   "source": [
    "##### Barplot"
   ]
  },
  {
   "cell_type": "code",
   "execution_count": null,
   "metadata": {},
   "outputs": [],
   "source": [
    "frequencies = df.Species.value_counts()\n",
    "frequencies"
   ]
  },
  {
   "cell_type": "code",
   "execution_count": null,
   "metadata": {},
   "outputs": [],
   "source": [
    "#create two lists for values and indeces\n",
    "my_counts = list(frequencies.values)\n",
    "my_labels = list(frequencies.index)\n",
    "#create new dataframe\n",
    "df2 = pd.DataFrame( {'counts':my_counts}, index = my_labels)\n",
    "df2"
   ]
  },
  {
   "cell_type": "code",
   "execution_count": null,
   "metadata": {},
   "outputs": [],
   "source": [
    "df2.plot.bar(color='orange', alpha=0.7)\n",
    "plt.show()"
   ]
  },
  {
   "cell_type": "markdown",
   "metadata": {},
   "source": [
    "##### Single scatterplot "
   ]
  },
  {
   "cell_type": "code",
   "execution_count": null,
   "metadata": {},
   "outputs": [],
   "source": [
    "df.plot.scatter(x='Petal.Length', y='Petal.Width',color='blue',alpha=0.5,marker='*',s=20)\n",
    "plt.show()"
   ]
  },
  {
   "cell_type": "markdown",
   "metadata": {},
   "source": [
    "##### An array of scatterplot"
   ]
  },
  {
   "cell_type": "code",
   "execution_count": null,
   "metadata": {},
   "outputs": [],
   "source": [
    "my_cols_dict = {'setosa':'red', 'virginica':'green', 'versicolor':'blue'}\n",
    "my_cols = df['Species'].apply(lambda x: my_cols_dict[x])\n",
    "pd.plotting.scatter_matrix(df, c=my_cols, marker='o', alpha=0.5)\n",
    "plt.show()"
   ]
  },
  {
   "cell_type": "code",
   "execution_count": 136,
   "metadata": {},
   "outputs": [],
   "source": [
    "#read data from csv\n",
    "df_2 = pd.read_csv('data_airquality.csv', header='infer')"
   ]
  },
  {
   "cell_type": "code",
   "execution_count": null,
   "metadata": {},
   "outputs": [],
   "source": [
    "df_2.shape"
   ]
  },
  {
   "cell_type": "code",
   "execution_count": null,
   "metadata": {},
   "outputs": [],
   "source": [
    "df_2.head(3)"
   ]
  },
  {
   "cell_type": "code",
   "execution_count": null,
   "metadata": {},
   "outputs": [],
   "source": [
    "df_2.tail(3)"
   ]
  },
  {
   "cell_type": "code",
   "execution_count": null,
   "metadata": {},
   "outputs": [],
   "source": [
    "#build frequency table\n",
    "frequencies = df_2.region.value_counts()\n",
    "frequencies"
   ]
  },
  {
   "cell_type": "code",
   "execution_count": null,
   "metadata": {},
   "outputs": [],
   "source": [
    "#dataframe for counted data\n",
    "df3 = pd.DataFrame( {'Counts':[frequencies[0], frequencies[1]] }, index=['East','West'])\n",
    "df3"
   ]
  },
  {
   "cell_type": "code",
   "execution_count": null,
   "metadata": {},
   "outputs": [],
   "source": [
    "#categorical and numerical data\n",
    "df3.plot.bar(color='red',alpha = 0.6)\n",
    "plt.show"
   ]
  },
  {
   "cell_type": "code",
   "execution_count": null,
   "metadata": {},
   "outputs": [],
   "source": [
    "\n",
    "plt.hist(df_2.pm25, color = 'orange')"
   ]
  },
  {
   "cell_type": "code",
   "execution_count": null,
   "metadata": {},
   "outputs": [],
   "source": [
    "df_2.loc[:,'pm25'].plot.hist(color='orange', alpha = 0.5)"
   ]
  },
  {
   "cell_type": "code",
   "execution_count": null,
   "metadata": {},
   "outputs": [],
   "source": [
    "df_2[df_2.region=='east'].pm25.plot.hist(color = 'purple', alpha = 0.6)\n",
    "df_2[df_2.region== 'west'].pm25.plot.hist(color = 'red', alpha = 0.6)\n",
    "plt.show()"
   ]
  },
  {
   "cell_type": "code",
   "execution_count": null,
   "metadata": {},
   "outputs": [],
   "source": [
    "df_2.plot.scatter(x = 'pm25', y='latitude', marker= 'o', color = 'blue', alpha = 0.6, s=20)\n",
    "plt.show()"
   ]
  },
  {
   "cell_type": "code",
   "execution_count": 137,
   "metadata": {},
   "outputs": [
    {
     "data": {
      "image/png": "[encoded data removed]",
      "text/plain": [
       "<Figure size 432x288 with 1 Axes>"
      ]
     },
     "metadata": {
      "needs_background": "light"
     },
     "output_type": "display_data"
    }
   ],
   "source": [
    "#splitting east and west\n",
    "base=df_2[df_2.region=='east'].plot.scatter(x='latitude', y='pm25',color='blue',alpha=0.6,marker='o',s=20, label='East')\n",
    "\n",
    "df_2[df_2.region=='west'].plot.scatter(x='latitude', y='pm25',color='red',alpha=0.6,marker='o',s=20, label='West',ax=base)\n",
    "\n",
    "plt.show()"
   ]
  },
  {
   "cell_type": "code",
   "execution_count": null,
   "metadata": {},
   "outputs": [],
   "source": [
    "df_2.plot.scatter(y='latitude', x='longitude', color='green', alpha= 0.6, marker='o',s=15)\n",
    "plt.show()"
   ]
  },
  {
   "cell_type": "code",
   "execution_count": null,
   "metadata": {},
   "outputs": [],
   "source": [
    "#matrix \n",
    "pd.plotting.scatter_matrix(df[['longitude','latitude','pm25']],c='red',marker='.',s=15)\n",
    "plt.show()"
   ]
  },
  {
   "cell_type": "markdown",
   "metadata": {},
   "source": [
    "#### 3.3: Seaborn visualization."
   ]
  },
  {
   "cell_type": "code",
   "execution_count": null,
   "metadata": {},
   "outputs": [],
   "source": [
    "# Install the Seaborn library.\n",
    "!pip install seaborn"
   ]
  },
  {
   "cell_type": "code",
   "execution_count": null,
   "metadata": {},
   "outputs": [],
   "source": [
    "import seaborn as sns\n",
    "import warnings\n",
    "warnings.filterwarnings('ignore')           # Turn off the warnings. "
   ]
  },
  {
   "cell_type": "code",
   "execution_count": null,
   "metadata": {},
   "outputs": [],
   "source": [
    "#Read in the data set 'mpg' from seaborn library\n",
    "data = sns.load_dataset('mpg')\n",
    "data.head(5)"
   ]
  },
  {
   "cell_type": "code",
   "execution_count": null,
   "metadata": {},
   "outputs": [],
   "source": [
    "data.shape"
   ]
  },
  {
   "cell_type": "code",
   "execution_count": null,
   "metadata": {},
   "outputs": [],
   "source": [
    "#Histogram\n",
    "sns.distplot(data.mpg, kde = False, rug =False, bins=50, color ='red')\n",
    "plt.show()"
   ]
  },
  {
   "cell_type": "code",
   "execution_count": null,
   "metadata": {},
   "outputs": [],
   "source": [
    "sns.distplot(data.mpg, kde = True,rug = False, bins =50, color = 'red')"
   ]
  },
  {
   "cell_type": "code",
   "execution_count": null,
   "metadata": {},
   "outputs": [],
   "source": [
    "sns.distplot(data.mpg, rug = True,kde = False, color = 'red', bins = 50)"
   ]
  },
  {
   "cell_type": "code",
   "execution_count": null,
   "metadata": {},
   "outputs": [],
   "source": [
    "# KDE (Kernel Density Estimation).\n",
    "sns.kdeplot(data.mpg, color='blue')\n",
    "plt.show()"
   ]
  },
  {
   "cell_type": "code",
   "execution_count": null,
   "metadata": {},
   "outputs": [],
   "source": [
    "#scatterplot\n",
    "sns.jointplot(x='weight', y='mpg', data = data, color = 'red', kind = 'scatter')\n",
    "plt.show()"
   ]
  },
  {
   "cell_type": "code",
   "execution_count": null,
   "metadata": {},
   "outputs": [],
   "source": [
    "#scatterplot with regression line\n",
    "sns.jointplot(x='weight', y='mpg', data = data, color = 'red', kind = 'reg')\n",
    "plt.show()"
   ]
  },
  {
   "cell_type": "code",
   "execution_count": null,
   "metadata": {},
   "outputs": [],
   "source": [
    "#scatterplot with regression line\n",
    "sns.lmplot(x='weight', y='mpg',data = data)\n",
    "plt.show()"
   ]
  },
  {
   "cell_type": "code",
   "execution_count": null,
   "metadata": {},
   "outputs": [],
   "source": [
    "#scatterplot with regression line using hue\n",
    "sns.lmplot(x='weight', y='mpg',data = data, hue = 'origin')\n",
    "plt.show()"
   ]
  },
  {
   "cell_type": "code",
   "execution_count": null,
   "metadata": {},
   "outputs": [],
   "source": [
    "#scatterplot with regression line using hue with multiple plots\n",
    "sns.lmplot(x='weight', y='mpg',data = data, hue = 'origin',col = 'origin',markers=['o','v','^'],\n",
    "           scatter_kws={'s':30}, aspect=0.5, size=5)\n",
    "plt.show()"
   ]
  },
  {
   "cell_type": "code",
   "execution_count": null,
   "metadata": {},
   "outputs": [],
   "source": [
    "#Hex\n",
    "sns.jointplot(x='weight', y='mpg',data = data, kind='hex', color = 'red')"
   ]
  },
  {
   "cell_type": "code",
   "execution_count": null,
   "metadata": {},
   "outputs": [],
   "source": [
    "# KDE (Kernel Density Estimation).\n",
    "sns.jointplot(x='weight', y='mpg', data=data, color='blue', kind='kde')\n",
    "plt.show()"
   ]
  },
  {
   "cell_type": "code",
   "execution_count": null,
   "metadata": {},
   "outputs": [],
   "source": [
    "# One categorical varaible + one numeric variable. Aggregated by the mean.\n",
    "sns.barplot(x='origin',y='mpg',data=data,estimator=np.mean)\n",
    "plt.show()"
   ]
  },
  {
   "cell_type": "code",
   "execution_count": null,
   "metadata": {},
   "outputs": [],
   "source": [
    "# One categorical varaible + one numeric variable. Aggregated by the mean.\n",
    "sns.barplot(x='origin',y='mpg',data=data,estimator=np.median)\n",
    "plt.show()"
   ]
  },
  {
   "cell_type": "code",
   "execution_count": null,
   "metadata": {},
   "outputs": [],
   "source": [
    "# One categorical variable only. by origin\n",
    "# Frequency table is implicitly calculated.\n",
    "sns.countplot(x='origin', data=data, palette='coolwarm')\n",
    "plt.show()"
   ]
  },
  {
   "cell_type": "code",
   "execution_count": null,
   "metadata": {},
   "outputs": [],
   "source": [
    "# Two categorical variables.\n",
    "# Use of 'hue' argument.\n",
    "sns.countplot(x='origin', data=data, hue='cylinders')\n",
    "plt.show()"
   ]
  },
  {
   "cell_type": "code",
   "execution_count": null,
   "metadata": {},
   "outputs": [],
   "source": [
    "#boxplot - horizntal \n",
    "sns.boxplot(x='mpg', data = data, color = 'pink')"
   ]
  },
  {
   "cell_type": "code",
   "execution_count": null,
   "metadata": {},
   "outputs": [],
   "source": [
    "#boxplot - vertical \n",
    "sns.boxplot(y='mpg', data = data, color = 'pink')"
   ]
  },
  {
   "cell_type": "code",
   "execution_count": null,
   "metadata": {},
   "outputs": [],
   "source": [
    "#multiple boxplot\n",
    "sns.boxplot(x='mpg',y='origin', data= data, palette='coolwarm', notch=True)\n",
    "plt.show()"
   ]
  },
  {
   "cell_type": "code",
   "execution_count": null,
   "metadata": {},
   "outputs": [],
   "source": [
    "#multiple boxplot\n",
    "sns.boxplot(y='mpg',x='origin',hue='cylinders', data= data, palette='coolwarm', notch=True)\n",
    "plt.show()"
   ]
  },
  {
   "cell_type": "code",
   "execution_count": null,
   "metadata": {},
   "outputs": [],
   "source": [
    "# Multiple of violin plots.\n",
    "sns.violinplot(x='origin', y='mpg', data=data, palette='coolwarm')\n",
    "plt.show()"
   ]
  },
  {
   "cell_type": "code",
   "execution_count": null,
   "metadata": {},
   "outputs": [],
   "source": [
    "# Multiple of violin plots.\n",
    "sns.violinplot(x='cylinders', y='horsepower', data=data, palette='coolwarm')\n",
    "plt.show()"
   ]
  },
  {
   "cell_type": "code",
   "execution_count": null,
   "metadata": {},
   "outputs": [],
   "source": [
    "# Strip plot.\n",
    "sns.stripplot(x='cylinders', y='horsepower', data=data, palette='coolwarm')\n",
    "plt.show()"
   ]
  },
  {
   "cell_type": "code",
   "execution_count": null,
   "metadata": {},
   "outputs": [],
   "source": [
    "# Swarm plot\n",
    "sns.swarmplot(x='cylinders', y='horsepower', data=data, palette='coolwarm')\n",
    "plt.show()"
   ]
  },
  {
   "cell_type": "code",
   "execution_count": null,
   "metadata": {},
   "outputs": [],
   "source": [
    "# Strip plot + swarm plot\n",
    "sns.violinplot(x='origin', y='horsepower', data=data)\n",
    "sns.swarmplot(x='origin', y='horsepower', data=data,color ='black')\n",
    "plt.show()"
   ]
  },
  {
   "cell_type": "code",
   "execution_count": null,
   "metadata": {},
   "outputs": [],
   "source": [
    "#color palette\n",
    "sns.countplot(x='origin', data=data, palette='cubehelix')\n",
    "#sns.countplot(x='origin', data=data, palette='coolwarm')\n",
    "#sns.countplot(x='origin', data=data, palette='magma')\n",
    "#sns.countplot(x='origin', data=data, palette='seismic')\n",
    "plt.show()"
   ]
  },
  {
   "cell_type": "code",
   "execution_count": null,
   "metadata": {},
   "outputs": [],
   "source": []
  }
 ],
 "metadata": {
  "kernelspec": {
   "display_name": "Python 3",
   "language": "python",
   "name": "python3"
  },
  "language_info": {
   "codemirror_mode": {
    "name": "ipython",
    "version": 3
   },
   "file_extension": ".py",
   "mimetype": "text/x-python",
   "name": "python",
   "nbconvert_exporter": "python",
   "pygments_lexer": "ipython3",
   "version": "3.6.8"
  }
 },
 "nbformat": 4,
 "nbformat_minor": 2
}
