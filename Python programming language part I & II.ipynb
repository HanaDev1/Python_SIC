{
 "cells": [
  {
   "cell_type": "markdown",
   "metadata": {},
   "source": [
    "## Python programming language part I & II \n",
    "*Hana ALalawi - AI course - Python part I & II"
   ]
  },
  {
   "cell_type": "markdown",
   "metadata": {},
   "source": [
    "### Chapter two:\n",
    "[Unit 2](#Unit-2)\n",
    "- 2.1: Basic Data types.\n",
    "- 2.2: Composite Data types.\n",
    "- 2.3: Data type mutability."
   ]
  },
  {
   "cell_type": "markdown",
   "metadata": {},
   "source": [
    "[Unit 3](#Unit-3)\n",
    "- 3.1: Control structure. \n",
    "- 3.2: Python functions.\n",
    "- 3.3: Python Input and output."
   ]
  },
  {
   "cell_type": "markdown",
   "metadata": {},
   "source": [
    "[Unit 4](#Unit-4)\n",
    "- 4.1: Classes and objects.\n",
    "- 4.2: Exception handling."
   ]
  },
  {
   "cell_type": "markdown",
   "metadata": {},
   "source": [
    "[Unit 5](#Unit-5)\n",
    "- 5.1: Algortihms.\n",
    "- 5.2: Data structure.\n",
    "- 5.3: Working with files.\n",
    "- 5.4: Working Excel, PDF, Word document."
   ]
  },
  {
   "cell_type": "markdown",
   "metadata": {},
   "source": [
    "### Unit 2"
   ]
  },
  {
   "cell_type": "code",
   "execution_count": null,
   "metadata": {},
   "outputs": [],
   "source": [
    "#import all the libraries \n",
    "import openpyxl\n",
    "# Import the library, create an object and store it in external file to restore it later\n",
    "import pickle\n",
    "#store data in an external file as a dictionary and restore it later\n",
    "import shelve\n",
    "import os\n",
    "#pdf files\n",
    "import PyPDF2\n",
    "#docx files\n",
    "import docx"
   ]
  },
  {
   "cell_type": "markdown",
   "metadata": {},
   "source": [
    "#### Operation with numbers:"
   ]
  },
  {
   "cell_type": "code",
   "execution_count": null,
   "metadata": {},
   "outputs": [],
   "source": [
    "number_1 =15\n",
    "number_2 =3\n",
    "#Sum\n",
    "sum = number_1 + number_2\n",
    "#sub\n",
    "sub = number_1 - number_2\n",
    "#Mul\n",
    "mul = number_1 * number_2\n",
    "#Div\n",
    "div = number_1 / number_2\n",
    "f_div=number_1 // number_2\n",
    "#mod\n",
    "mod = number_1 % number_2\n",
    "#pow\n",
    "pow = number_1 ** number_2\n",
    "print(\"Athmetic operation with numbers:\\n\",\n",
    "      \"-The summation\",sum,\"\\n -The subtraction\",sub,\"\\n -The multiplication\",mul,\n",
    "      \"\\n -The division\",div,\" and the floor division\",f_div,\"\\n -The Modulus\",mod,\"\\n -The Exponentation\",pow)"
   ]
  },
  {
   "cell_type": "markdown",
   "metadata": {},
   "source": [
    "#### Operation with strings:"
   ]
  },
  {
   "cell_type": "code",
   "execution_count": null,
   "metadata": {},
   "outputs": [],
   "source": [
    "#conc + and rep *\n",
    "str_1 = \"Hello,\"\n",
    "str_2 = \"I love python!\"\n",
    "#concatenation\n",
    "sentence = str_1 + str_2\n",
    "#repeat\n",
    "sentence2 = str_2*3\n",
    "print(sentence)\n",
    "print(sentence2)\n",
    "\n",
    "#Indexing and slicing\n",
    "print(\"Indexing and slicing: \\n\",str_2[0],'\\n',str_2[-1],'\\n',str_2[2:6],'\\n',str_2[7:],'\\n',str_2[2:])\n",
    "\n",
    "#string methons\n",
    "#len()\n",
    "print(\"The string length: \",len(str_2))\n",
    "#count()\n",
    "print(\"The number of character [o] is:\", str_2.count('o'))\n",
    "#upper()\n",
    "print(\"UPPER:\", str_2.upper())\n",
    "#lower()\n",
    "print(\"lower:\", str_2.lower())\n",
    "#find()\n",
    "print(\"Find the character position:\", str_2.find('o'))\n",
    "#index()\n",
    "print(\"Find the index:\", str_2.index('!'))\n",
    "#split()\n",
    "print(\"Split the string\", str_2.split())\n",
    "#join()\n",
    "print(\"Join the string\")\n",
    "new_str = str_2.split(' ')\n",
    "ch = ' '#with space\n",
    "print(ch.join(new_str))"
   ]
  },
  {
   "cell_type": "markdown",
   "metadata": {},
   "source": [
    "#### Operation with Boolean:"
   ]
  },
  {
   "cell_type": "code",
   "execution_count": null,
   "metadata": {},
   "outputs": [],
   "source": [
    "#The truth table\n",
    "import pandas as pd\n",
    "data = [['T', 'T', 'T','T'], ['F', 'T', 'F','T'],['T','F', 'F','T'],['F', 'F', 'F','T']]\n",
    "print(\"The truth table\")\n",
    "pd.DataFrame(data, columns=[\"X\", \"Y\",\"AND\",\"OR\"])"
   ]
  },
  {
   "cell_type": "code",
   "execution_count": null,
   "metadata": {},
   "outputs": [],
   "source": [
    "#NOT\n",
    "lis_1 = []\n",
    "lis_2 = ['A','B','C','D']\n",
    "if lis_1:\n",
    "    print(\"The lis is empty \\n\")\n",
    "elif lis_2:\n",
    "    print(\"The list is not empty\\n\")"
   ]
  },
  {
   "cell_type": "markdown",
   "metadata": {},
   "source": [
    "#### Lists"
   ]
  },
  {
   "cell_type": "code",
   "execution_count": null,
   "metadata": {},
   "outputs": [],
   "source": [
    "# list\n",
    "list_1 = ['A','B','C','D', \"This is the alphapet\", [1,2,3,4,5]]\n",
    "list_2 = ['E','F','G','H']\n",
    "#nested list\n",
    "print(list_1[4]) #the list index\n",
    "#slicing and indexing\n",
    "print(list_1[:1])\n",
    "print(list_1[:])\n",
    "#conc + and rep *\n",
    "new_list = list_1 + list_2\n",
    "print(new_list,'\\n',list_2*2)\n",
    "#Modify\n",
    "list_2[-1] = 'N'\n",
    "list_2[1]=[6,7,8,9,10]\n",
    "del list_2[2]\n",
    "print(\"Modifying lists:\\n\", list_2)\n",
    "#List methods:\n",
    "sort_list = [2,7,8,3,0,1,5,9,10,4,6]\n",
    "print(\"The length of the list: \", len(sort_list))#len\n",
    "print(\"Sort the list: \")#sort\n",
    "sort_list.sort(reverse=True)\n",
    "print(sort_list)\n",
    "print(\"append : \")#appened\n",
    "sort_list.append(11)\n",
    "print(sort_list)"
   ]
  },
  {
   "cell_type": "markdown",
   "metadata": {},
   "source": [
    "#### Tuples:"
   ]
  },
  {
   "cell_type": "code",
   "execution_count": null,
   "metadata": {},
   "outputs": [],
   "source": [
    "#tuple\n",
    "tup = ('I','Love','Python!')\n",
    "tup_1 = ('Python',' is','a Programming',' Language')\n",
    "print(tup[1][2])#indixing\n",
    "#conc + and rep *\n",
    "new_tup = tup + tup_1\n",
    "print(new_tup,'\\n',tup_1*2)"
   ]
  },
  {
   "cell_type": "markdown",
   "metadata": {},
   "source": [
    "#### Dictionary:"
   ]
  },
  {
   "cell_type": "code",
   "execution_count": null,
   "metadata": {},
   "outputs": [],
   "source": [
    "#dictionary\n",
    "dict_1 = {'Name':['Amy','Jhon','Sara'],'Age':[24,23,25],'Course':['CS','Network','AI']}\n",
    "dict_1['Name'][2] = 'Hana' #change or add new \n",
    "#dic methods\n",
    "print(\"The dictionary keys: \", dict_1.keys())\n",
    "print(\"The dictionary Values: \", dict_1.values())\n",
    "print(\"The dictionary items:\\n\", dict_1.items())\n",
    "#check if the key is exist in the dictionary\n",
    "'Course' in dict_1"
   ]
  },
  {
   "cell_type": "markdown",
   "metadata": {},
   "source": [
    "#### Sets:"
   ]
  },
  {
   "cell_type": "code",
   "execution_count": null,
   "metadata": {},
   "outputs": [],
   "source": [
    "#create a new set\n",
    "set_1 = set([1,4,5,6,5,5,6,8,1,3])\n",
    "set_2 = set([1,2,3,4,5,6,7,8,9,0,99])\n",
    "#set intersection by using & or set_1.intersection(set_2)\n",
    "print (\"The intersection of the set 1 and set 2:\\n\", set_1&set_2)\n",
    "#set uniion by using | or set_1.union(set_2)\n",
    "print (\"The union of the set 1 and set 2:\\n\", set_1|set_2)\n",
    "#set differnce by using - or set_1.difference(set_2)\n",
    "print (\"The difference between set 1 and set 2:\\n\", set_2.difference(set_1))\n",
    "#set add by using  set_1.add(100)\n",
    "set_1.add(100)\n",
    "#set update by using  set_1.update([100,200])\n",
    "set_1.update([100,200])\n",
    "#remove an element set_1.remove([100,200])\n",
    "set_1.remove(100)\n",
    "print(set_1)"
   ]
  },
  {
   "cell_type": "markdown",
   "metadata": {},
   "source": [
    "### Unit 3\n",
    "- 3.1: Control structure. \n",
    "- 3.2: Python functions.\n",
    "- 3.3: Python Input and output."
   ]
  },
  {
   "cell_type": "markdown",
   "metadata": {},
   "source": [
    "#### 3.1 Control structure"
   ]
  },
  {
   "cell_type": "code",
   "execution_count": null,
   "metadata": {},
   "outputs": [],
   "source": [
    "#control structure\n",
    "#if-else statement\n",
    "student_dict = {'Name':['Sara','Hana','Ghada','Reem'],'Course':'AI','GPA':[3.50,5,4.5,4]}\n",
    "\n",
    "Stu_name = input(\"Enter your name:\")\n",
    "Stu_name = str(Stu_name)\n",
    "\n",
    "if Stu_name not in student_dict['Name']:\n",
    "    print('Please, register first!')\n",
    "elif Stu_name in student_dict['Name']:\n",
    "    print ('Your GPA is grater than 3 out of 5')"
   ]
  },
  {
   "cell_type": "code",
   "execution_count": null,
   "metadata": {},
   "outputs": [],
   "source": [
    "#For loop\n",
    "#find the average of the students' grades\n",
    "stud_num = input(\"Enter the students number? \")\n",
    "stud_num = int(stud_num)\n",
    "counter = 0\n",
    "total = 0 \n",
    "\n",
    "for counter in range(0,stud_num):\n",
    "    stu_grad = input(\"Enter the student grade: \")\n",
    "    stu_grad = int(stu_grad)\n",
    "    a = stu_grad\n",
    "    total = total + a\n",
    "    counter+1\n",
    "\n",
    "avr = total / stud_num   \n",
    "print(\"The average is :\", avr)"
   ]
  },
  {
   "cell_type": "code",
   "execution_count": null,
   "metadata": {},
   "outputs": [],
   "source": [
    "#while loop\n",
    "rec_size = 10\n",
    "inSize = rec_size - 2\n",
    "print ('+' * rec_size)\n",
    "while i in range(inSize):\n",
    "    print ('+' + ' ' * inSize + '+')\n",
    "    inSize=+1\n",
    "print ('+' * rec_size)"
   ]
  },
  {
   "cell_type": "markdown",
   "metadata": {},
   "source": [
    "#### 3.2 Python functions"
   ]
  },
  {
   "cell_type": "code",
   "execution_count": null,
   "metadata": {},
   "outputs": [],
   "source": [
    "#calculate the syudent's grade average (UDFs)\n",
    "def grad_average (stu_num):\n",
    "    counter = 0\n",
    "    total = 0 \n",
    "    grades = []\n",
    "    for counter in range(0,stud_num):\n",
    "        stu_grad = input(\"Enter the student grade: \")\n",
    "        stu_grad = int(stu_grad)\n",
    "        a = stu_grad\n",
    "        total = total + a\n",
    "        grades.append(a)\n",
    "        counter+1\n",
    "    \n",
    "    avr = total / stud_num\n",
    "    print(\"The average is :\", avr)\n",
    "    return(avr, grades)\n",
    "\n",
    "stud_num = input(\"Enter the students number? \")\n",
    "stud_num = int(stud_num)    \n",
    "grad_average(stud_num)"
   ]
  },
  {
   "cell_type": "markdown",
   "metadata": {},
   "source": [
    "#### 3.3 Python input and output"
   ]
  },
  {
   "cell_type": "code",
   "execution_count": null,
   "metadata": {},
   "outputs": [],
   "source": [
    "#input by user's keyboard\n",
    "name = input(\"Enter your name \")\n",
    "name = str(name)\n",
    "print ('Hello to PYTHON world *-*', name)"
   ]
  },
  {
   "cell_type": "code",
   "execution_count": null,
   "metadata": {},
   "outputs": [],
   "source": [
    "#open and close file\n",
    "file_a = open('my_file.txt','r')\n",
    "#read a file \n",
    "read_file = file_a.read()\n",
    "print(read_file)\n",
    "#read a file \n",
    "for line in read_file:\n",
    "    print(line)\n",
    "    file_a.close()\n",
    "# write in a file\n",
    "#create a new file and write on it \n",
    "file = open('New_file.txt','w')\n",
    "file.write('This is a new space...')\n",
    "file.close()"
   ]
  },
  {
   "cell_type": "markdown",
   "metadata": {},
   "source": [
    "### Unit 4\n",
    "- 4.1: Classes and objects.\n",
    "- 4.2: Exception handling."
   ]
  },
  {
   "cell_type": "code",
   "execution_count": null,
   "metadata": {},
   "outputs": [],
   "source": [
    "#create a class and object \n",
    "class Student:\n",
    "    #Class variable \n",
    "    student_number = 0\n",
    "    #constructor method\n",
    "    def __init__(self, name, course, gpa):\n",
    "        self.name = name\n",
    "        self.course = course\n",
    "        self.gpa = gpa\n",
    "        student_number =+1\n",
    "        print(\"A new student profile is created\")\n",
    "        \n",
    "    #deconstrctor method\n",
    "    def __del__(self):\n",
    "        print('student profile is deleted')\n",
    "        student_number =-1"
   ]
  },
  {
   "cell_type": "code",
   "execution_count": null,
   "metadata": {},
   "outputs": [],
   "source": [
    "n_student = Student('Rama','Network',5)"
   ]
  },
  {
   "cell_type": "code",
   "execution_count": null,
   "metadata": {},
   "outputs": [],
   "source": [
    "del n_student"
   ]
  },
  {
   "cell_type": "code",
   "execution_count": null,
   "metadata": {},
   "outputs": [],
   "source": [
    "#create a new object \n",
    "student_n = input (\"Enter your name: \")\n",
    "student_c = input (\"Enter your course: \")\n",
    "student_g = input (\"Enter your GPA: \")\n",
    "new_student = Student (student_n , student_c , student_g)\n",
    "print(\" Name: {0} \\n Course: {1} \\n GPA: {2}\".format(new_student.name, new_student.course, new_student.gpa))\n",
    "print(new_student.student_number)"
   ]
  },
  {
   "cell_type": "code",
   "execution_count": null,
   "metadata": {},
   "outputs": [],
   "source": [
    "#inhertince\n",
    "#university class - student class - staff class\n",
    "class HHUni:\n",
    "    counter = 0\n",
    "    def __init__ (self, ID, email):\n",
    "        self.ID = ID\n",
    "        self.email = email\n",
    "        counter=+1\n",
    "        print('profile is created')\n",
    "        \n",
    "    def __del__(self):\n",
    "        print('profile is deleted')\n",
    "               \n",
    "class student2(HHUni) :\n",
    "    def __init__ (self,name, gpa, course):\n",
    "        self.name = name\n",
    "        self.course = course\n",
    "        self.gpa = gpa\n",
    "        print('Student profile')\n",
    "        \n",
    "class staff(HHUni) :\n",
    "    def __init__ (self, name, job_title):\n",
    "        self.name = name\n",
    "        self.job_title = job_title\n",
    "        print('Staff profile')\n",
    "        \n",
    "#creat an object \n",
    "student_a = student2('Hana','4','DS')\n",
    "staff_a = staff('Emma','IT manager')    "
   ]
  },
  {
   "cell_type": "markdown",
   "metadata": {},
   "source": [
    "### Unit 5\n",
    "- 5.1: Algortihms.\n",
    "- 5.2: Data structure.\n",
    "- 5.3: Working with files.\n",
    "- 5.4: Working Excel, PDF, Word document."
   ]
  },
  {
   "cell_type": "markdown",
   "metadata": {},
   "source": [
    "#### 5.1: Algorithms"
   ]
  },
  {
   "cell_type": "code",
   "execution_count": null,
   "metadata": {},
   "outputs": [],
   "source": [
    "#Algortihms \n",
    "#function treturns the minimum and maximum value in the list\n",
    "#1. function that takes a list as a parameter.\n",
    "#2. the user will enter no.1 for max and no.2 for min value.\n",
    "#3. intilize a varible for the user input.\n",
    "#4. if statement to check the min or max value depends on the user entires.\n",
    "#5. sort the list items.\n",
    "#6. return the first item in the list.\n",
    "\n",
    "def find_min_max (check_list):\n",
    "    user_fav = input('Please enter Number (1) for maximum value and Number (2) for Minimum value')\n",
    "    user_fav = int(user_fav)\n",
    "    \n",
    "    if user_fav == 1:\n",
    "        check_list.sort(reverse = True)\n",
    "        print(check_list[0])\n",
    "        return check_list[0]\n",
    "    elif user_fav == 2:\n",
    "        check_list.sort()\n",
    "        print(check_list[0])\n",
    "        return check_list[0]\n",
    "        \n",
    "students_grade = [30,50,55,12,70,98,100]\n",
    "find_min_max(students_grade)"
   ]
  },
  {
   "cell_type": "markdown",
   "metadata": {},
   "source": [
    "#### 5.2: Data structure."
   ]
  },
  {
   "cell_type": "code",
   "execution_count": null,
   "metadata": {},
   "outputs": [],
   "source": [
    "#Queue - FIFO first in First out\n",
    "fruits = ['apple','banana','carrot','dates','elderberry']\n",
    "while fruits:\n",
    "    print(fruits.pop(0))"
   ]
  },
  {
   "cell_type": "code",
   "execution_count": null,
   "metadata": {},
   "outputs": [],
   "source": [
    "#Stack - LIFO last in first out\n",
    "fruits = ['apple','banana','carrot','dates','elderberry']\n",
    "while fruits:\n",
    "    print(fruits.pop())"
   ]
  },
  {
   "cell_type": "markdown",
   "metadata": {},
   "source": [
    "#### 5.3: Working with files"
   ]
  },
  {
   "cell_type": "code",
   "execution_count": null,
   "metadata": {},
   "outputs": [],
   "source": [
    "#reading and writing in text file.\n",
    "os.getcwd()\n",
    "os.chdir(r'file_path')  "
   ]
  },
  {
   "cell_type": "code",
   "execution_count": null,
   "metadata": {},
   "outputs": [],
   "source": [
    "#make a new txt file in the current directory \n",
    "#create a new file and write on it \n",
    "students_name = open('students_name2.txt','w')\n",
    "students_name.write('Hana, Remma, Rama, Huda, Sara')"
   ]
  },
  {
   "cell_type": "code",
   "execution_count": null,
   "metadata": {},
   "outputs": [],
   "source": [
    "#read from file\n",
    "student_file = open('students_name2.txt', 'r')\n",
    "all = student_file.read()                 \n",
    "for line in all:\n",
    "     print(line)             \n",
    "student_file.close() "
   ]
  },
  {
   "cell_type": "code",
   "execution_count": null,
   "metadata": {},
   "outputs": [],
   "source": [
    "student_info = [2012, {'Name':'Sara','Age':21,'ID':'22678332','GPA':4}]"
   ]
  },
  {
   "cell_type": "code",
   "execution_count": null,
   "metadata": {},
   "outputs": [],
   "source": [
    "pickle.dump(student_info, open('my_pickle.pkl','wb')) "
   ]
  },
  {
   "cell_type": "code",
   "execution_count": null,
   "metadata": {},
   "outputs": [],
   "source": [
    "del student_info"
   ]
  },
  {
   "cell_type": "code",
   "execution_count": null,
   "metadata": {},
   "outputs": [],
   "source": [
    "new_stu = pickle.load(open('my_pickle.pkl','rb')) \n",
    "print(new_stu)"
   ]
  },
  {
   "cell_type": "code",
   "execution_count": null,
   "metadata": {},
   "outputs": [],
   "source": [
    "# Write in a dictionary format.\n",
    "student_info2 = shelve.open('MyStudentDict')               \n",
    "student_info2['Name'] = 'Sara'                    \n",
    "student_info2['Age'] = 21\n",
    "student_info2['GPA'] = 4\n",
    "student_info2['ID'] = '22678332'\n",
    "student_info2.close()"
   ]
  },
  {
   "cell_type": "code",
   "execution_count": null,
   "metadata": {},
   "outputs": [],
   "source": [
    "# Read from the student dictionary\n",
    "student_info2 = shelve.open('MyStudentDict')\n",
    "print(list(student_info2.keys()), list(student_info2.values()))\n",
    "print(list(student_info2.items()))\n",
    "student_info2.close()"
   ]
  },
  {
   "cell_type": "markdown",
   "metadata": {},
   "source": [
    "#### 5.4: Working Excel, PDF, Word document."
   ]
  },
  {
   "cell_type": "markdown",
   "metadata": {},
   "source": [
    "#### 5.4.1: Working with excel file."
   ]
  },
  {
   "cell_type": "code",
   "execution_count": null,
   "metadata": {},
   "outputs": [],
   "source": [
    "#workbook>sheet>cell\n",
    "!pip install openpyxl"
   ]
  },
  {
   "cell_type": "code",
   "execution_count": null,
   "metadata": {},
   "outputs": [],
   "source": [
    "os.chdir(r'file_path')  "
   ]
  },
  {
   "cell_type": "code",
   "execution_count": null,
   "metadata": {},
   "outputs": [],
   "source": [
    "#1. working with existing documents\n",
    "#a. open excel file\n",
    "students_workbook = openpyxl.load_workbook('students_workbook.xlsx')\n",
    "#b. list the sheets name\n",
    "students_workbook.sheetnames\n",
    "#c. get the sheet as an object and show the cell value\n",
    "sheet1 = students_workbook['Sheet1']\n",
    "print('first way: ',sheet1['A3'].value)\n",
    "print('second way: ',sheet1.cell(3,1).value)"
   ]
  },
  {
   "cell_type": "code",
   "execution_count": null,
   "metadata": {},
   "outputs": [],
   "source": [
    "# Show values from several cells.\n",
    "for i in range(1,9):\n",
    "     print(sheet1.cell(i,1).value )"
   ]
  },
  {
   "cell_type": "code",
   "execution_count": null,
   "metadata": {},
   "outputs": [],
   "source": [
    "#2. create a new excel document\n",
    "new_workbook = openpyxl.Workbook()          \n",
    "print(new_workbook.sheetnames) "
   ]
  },
  {
   "cell_type": "code",
   "execution_count": null,
   "metadata": {},
   "outputs": [],
   "source": [
    "#create sheet 1\n",
    "sheet_1 = new_workbook['Sheet']\n",
    "sheet_1['A1']= 'Sara'\n",
    "sheet_1['A2']= 'Nora'\n",
    "sheet_1['A3']= 'Hana'\n",
    "sheet_1['A4']= 'Dana'\n",
    "sheet_1['A5']= 'Rema'\n",
    "sheet_1['A6']= 'Lolo'\n",
    "#change sheet title \n",
    "sheet_1.title = 'StudentsName'\n",
    "#create new sheet\n",
    "students_id = new_workbook.create_sheet(index = 0, title = 'studentsId')\n",
    "students_id['A1'].value = '11259543'\n",
    "#print sheet names\n",
    "print(new_workbook.sheetnames)\n",
    "# Save the workbook object as a file\n",
    "new_workbook.save('my_students_info.xlsx')"
   ]
  },
  {
   "cell_type": "markdown",
   "metadata": {},
   "source": [
    "#### 5.4.2: Working with Word file."
   ]
  },
  {
   "cell_type": "code",
   "execution_count": null,
   "metadata": {
    "scrolled": true
   },
   "outputs": [],
   "source": [
    "!pip install python-docx"
   ]
  },
  {
   "cell_type": "code",
   "execution_count": null,
   "metadata": {},
   "outputs": [],
   "source": [
    "#the dirctory of the file\n",
    "os.chdir(r'file_path') "
   ]
  },
  {
   "cell_type": "code",
   "execution_count": null,
   "metadata": {},
   "outputs": [],
   "source": [
    "#working with exsisting file\n",
    "ex_document = docx.Document('John_McCarthy.docx')\n",
    "#number of paragraph \n",
    "p_number = len(ex_document.paragraphs)\n",
    "print(p_number)"
   ]
  },
  {
   "cell_type": "code",
   "execution_count": null,
   "metadata": {},
   "outputs": [],
   "source": [
    "#print content of a paragraph\n",
    "print(ex_document.paragraphs[6].text)"
   ]
  },
  {
   "cell_type": "code",
   "execution_count": null,
   "metadata": {},
   "outputs": [],
   "source": [
    "# Number of runs within a specific document.\n",
    "m = len(ex_document.paragraphs[2].runs)         \n",
    "print(m)"
   ]
  },
  {
   "cell_type": "code",
   "execution_count": null,
   "metadata": {},
   "outputs": [],
   "source": [
    "# A function that gets all the paragraphs of a document.\n",
    "def getAllParagraphs(filename):\n",
    "    a_doc = docx.Document(filename)\n",
    "    fullText = []\n",
    "    for a_para in a_doc.paragraphs:\n",
    "        fullText.append(a_para.text)\n",
    "    return '\\n'.join(fullText)"
   ]
  },
  {
   "cell_type": "code",
   "execution_count": null,
   "metadata": {},
   "outputs": [],
   "source": [
    "#print all \n",
    "print(getAllParagraphs('John_McCarthy.docx'))"
   ]
  },
  {
   "cell_type": "code",
   "execution_count": null,
   "metadata": {},
   "outputs": [],
   "source": [
    "#create a new document file\n",
    "new_document = docx.Document()\n",
    "new_document.add_paragraph('it is the  first paragrapgh')\n",
    "new_document.add_paragraph('it is the  second paragrapgh')\n",
    "new_document.add_paragraph('it is the  third paragrapgh')\n",
    "#save the object as a document file\n",
    "new_document.save('create_doc.docx')"
   ]
  },
  {
   "cell_type": "markdown",
   "metadata": {},
   "source": [
    "#### 5.4.3: Working with PDF document."
   ]
  },
  {
   "cell_type": "code",
   "execution_count": null,
   "metadata": {},
   "outputs": [],
   "source": [
    "!pip install PyPDF2"
   ]
  },
  {
   "cell_type": "code",
   "execution_count": null,
   "metadata": {},
   "outputs": [],
   "source": [
    "#the dirctory of the file\n",
    "os.chdir(r'file_path') "
   ]
  },
  {
   "cell_type": "code",
   "execution_count": null,
   "metadata": {},
   "outputs": [],
   "source": [
    "#working with exsisting file\n",
    "# Open as 'Read as Binary' mode!\n",
    "pdf_doc = open('John_McCarthy.pdf','rb')"
   ]
  },
  {
   "cell_type": "code",
   "execution_count": null,
   "metadata": {},
   "outputs": [],
   "source": [
    "#read\n",
    "reader = PyPDF2.PdfFileReader(pdf_doc)\n",
    "#print number of pages\n",
    "num_page = reader.numPages\n",
    "print(num_page)               "
   ]
  },
  {
   "cell_type": "code",
   "execution_count": null,
   "metadata": {},
   "outputs": [],
   "source": [
    "#get the content of a specific page\n",
    "my_page = reader.getPage(0) \n",
    "print(my_page.extractText())      "
   ]
  }
 ],
 "metadata": {
  "kernelspec": {
   "display_name": "Python 3",
   "language": "python",
   "name": "python3"
  },
  "language_info": {
   "codemirror_mode": {
    "name": "ipython",
    "version": 3
   },
   "file_extension": ".py",
   "mimetype": "text/x-python",
   "name": "python",
   "nbconvert_exporter": "python",
   "pygments_lexer": "ipython3",
   "version": "3.6.8"
  }
 },
 "nbformat": 4,
 "nbformat_minor": 2
}
